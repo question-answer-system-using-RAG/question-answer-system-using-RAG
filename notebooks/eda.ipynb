{
 "cells": [
  {
   "cell_type": "code",
   "execution_count": 10,
   "id": "ebae0793",
   "metadata": {},
   "outputs": [],
   "source": [
    "from datasets import load_dataset\n",
    "import pandas as pd\n",
    "\n",
    "import warnings\n",
    "warnings.filterwarnings('ignore')"
   ]
  },
  {
   "cell_type": "markdown",
   "id": "2db3f767",
   "metadata": {},
   "source": [
    "# Описание датасета\n",
    "\n",
    "SQuAD (Stanford Question Answering Dataset) — один из самых известных датасетов в области обработки естественного языка, созданный Стэнфордским университетом. Он был разработан для задачи извлечения ответов на вопросы из заданных текстов. Датасет используется в основном для оценки и обучения моделей машинного обучения в постановке задачи извлечения ответа на вопрос (QA — Question Answering).\n",
    "\n",
    "# Характеристики датасета\n",
    "\n",
    "### 1. Структура:\n",
    "\n",
    "    1.1. Датасет состоит из набора текстов (обычно отрывков из статей Википедии) и связанных с ними вопросов.\n",
    "    \n",
    "    1.2. Каждый вопрос снабжен ответом, который представляет собой фрагмент текста из соответствующего отрывка.\n",
    "    \n",
    "\n",
    "### 2. Варианты датасета:\n",
    "\n",
    "    2.1.SQuAD v1.1: Первая версия датасета содержит более 100,000 пар вопрос-ответ. Основной задачей здесь является нахождение ответа в заданном контексте. Ответ всегда присутствует в отрывке текста.\n",
    "    \n",
    "    2.2. SQuAD v2.0: Вторая версия добавляет приблизительно 50,000 дополнительных вопросов, для которых ответы в тексте отсутствуют. Модели должны уметь определять, когда на вопрос нет ответа. \n",
    "    \n",
    "В данной работе воспользуюсь версией датасета SQuAD v2.0. Ниже посмотрим на пример вопроса и ответа.\n"
   ]
  },
  {
   "cell_type": "code",
   "execution_count": 11,
   "id": "99a84748",
   "metadata": {},
   "outputs": [
    {
     "name": "stdout",
     "output_type": "stream",
     "text": [
      "Пример вопроса и ответа:\n",
      "When did Beyonce start becoming popular?\n",
      "{'text': ['in the late 1990s'], 'answer_start': [269]}\n",
      "What areas did Beyonce compete in when she was growing up?\n",
      "{'text': ['singing and dancing'], 'answer_start': [207]}\n",
      "When did Beyonce leave Destiny's Child and become a solo singer?\n",
      "{'text': ['2003'], 'answer_start': [526]}\n"
     ]
    }
   ],
   "source": [
    "squad_dataset = load_dataset(\"squad_v2\")\n",
    "\n",
    "train_data = squad_dataset['train']\n",
    "print(\"Пример вопроса и ответа:\")\n",
    "for i in range(3):\n",
    "    print(train_data[i]['question'])\n",
    "    print(train_data[i]['answers'])"
   ]
  },
  {
   "cell_type": "code",
   "execution_count": 44,
   "id": "8e116ffe",
   "metadata": {},
   "outputs": [
    {
     "data": {
      "text/plain": [
       "Dataset({\n",
       "    features: ['id', 'title', 'context', 'question', 'answers'],\n",
       "    num_rows: 130319\n",
       "})"
      ]
     },
     "execution_count": 44,
     "metadata": {},
     "output_type": "execute_result"
    }
   ],
   "source": [
    "train_data"
   ]
  },
  {
   "cell_type": "markdown",
   "id": "e50dd2af",
   "metadata": {},
   "source": [
    "## Поле id\n",
    "\n",
    "Является уникальным идентификатором объекта данных.\n",
    "\n",
    "## Поле title\n",
    "\n",
    "Поле title - название темы (по типу тэга).\n",
    "\n",
    "## Поле context\n",
    "\n",
    "Поле context - это полный текст новости\\заметки, в котором необходимо выбрать часть, которая является ответом на конкретный вопрос.\n",
    "\n",
    "## Поле question\n",
    "\n",
    "Полный текст вопроса.\n",
    "\n",
    "## Поле answers\n",
    "\n",
    "Текста ответа - часть из поля context.\n",
    "\n",
    "\n",
    "## Поле answer_start\n",
    "\n",
    "В датасете SQuAD (Stanford Question Answering Dataset) поле answer_start указывает на позицию начала первого символа ответа в тексте контекста.\n",
    "\n",
    "Когда в SQuAD датасете представлен вопрос, он сопровождается фрагментом текста (контекста), из которого извлекается ответ. answer_start указывает на индекс символа в контексте, с которого начинается текст ответа.\n",
    "\n",
    "Например, если контекст будет \"Париж - столица Франции\", а ответ на вопрос \"Какая столица Франции?\" — это слово \"Париж\", то answer_start будет равен 0, так как \"Париж\" начинается с первого символа контекста."
   ]
  },
  {
   "cell_type": "code",
   "execution_count": 67,
   "id": "44693f0b",
   "metadata": {},
   "outputs": [
    {
     "name": "stdout",
     "output_type": "stream",
     "text": [
      "Количество объектов на трейне: 130319\n",
      "Количество объектов на валидации: 11873\n"
     ]
    }
   ],
   "source": [
    "print(f\"Количество объектов на трейне: {squad_dataset['train'].shape[0]}\")\n",
    "print(f\"Количество объектов на валидации: {squad_dataset['validation'].shape[0]}\")"
   ]
  },
  {
   "cell_type": "code",
   "execution_count": 65,
   "id": "69be5cd4",
   "metadata": {},
   "outputs": [
    {
     "name": "stdout",
     "output_type": "stream",
     "text": [
      "Количество пропущенных ответов на трейне: 43498\n"
     ]
    }
   ],
   "source": [
    "num_passes = 0\n",
    "for i in range(len(train_data)):\n",
    "    if not train_data[i]['answers']['text']:\n",
    "        num_passes += 1\n",
    "        \n",
    "print(f\"Количество пропущенных ответов на трейне: {num_passes}\")"
   ]
  },
  {
   "cell_type": "code",
   "execution_count": 66,
   "id": "72ad7a49",
   "metadata": {},
   "outputs": [
    {
     "name": "stdout",
     "output_type": "stream",
     "text": [
      "Количество пропущенных ответов на валидации: 2387\n"
     ]
    }
   ],
   "source": [
    "num_passes = 0\n",
    "for i in range(len(squad_dataset['validation'])):\n",
    "    if not train_data[i]['answers']['text']:\n",
    "        num_passes += 1\n",
    "        \n",
    "print(f\"Количество пропущенных ответов на валидации: {num_passes}\")"
   ]
  },
  {
   "cell_type": "markdown",
   "id": "fa4387f5",
   "metadata": {},
   "source": [
    "## Вывод\n",
    "\n",
    "В валидацию попало совсем мало пропущенных значений с масштабах данных, метрику необходимо подобрать так, чтобы это учитывать."
   ]
  }
 ],
 "metadata": {
  "kernelspec": {
   "display_name": "Python 3 (ipykernel)",
   "language": "python",
   "name": "python3"
  },
  "language_info": {
   "codemirror_mode": {
    "name": "ipython",
    "version": 3
   },
   "file_extension": ".py",
   "mimetype": "text/x-python",
   "name": "python",
   "nbconvert_exporter": "python",
   "pygments_lexer": "ipython3",
   "version": "3.9.13"
  }
 },
 "nbformat": 4,
 "nbformat_minor": 5
}
