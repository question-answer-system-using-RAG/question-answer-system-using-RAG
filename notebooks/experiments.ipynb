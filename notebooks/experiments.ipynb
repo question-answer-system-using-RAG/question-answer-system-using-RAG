{
 "cells": [
  {
   "cell_type": "markdown",
   "metadata": {},
   "source": []
  },
  {
   "cell_type": "code",
   "execution_count": 12,
   "metadata": {},
   "outputs": [],
   "source": [
    "# Импортируем необходимые библиотеки\n",
    "import pandas as pd\n",
    "import numpy as np\n",
    "import matplotlib.pyplot as plt\n",
    "from typing import List, Dict, Tuple, Any, Optional\n",
    "import re\n",
    "import time\n",
    "import os\n",
    "from sklearn.metrics.pairwise import cosine_similarity\n",
    "from tqdm.notebook import tqdm\n",
    "from transformers import AutoTokenizer, AutoModel\n",
    "import torch\n",
    "from rank_bm25 import BM25Okapi\n",
    "import spacy\n",
    "import warnings\n",
    "warnings.filterwarnings('ignore')\n",
    "from sentence_transformers import SentenceTransformer\n",
    "\n",
    "# Импортируем классы из вашего pipeline\n",
    "from pipeline_file import (\n",
    "    ArticleDownloader, \n",
    "    TextPreprocessor, \n",
    "    EmbeddingManager, \n",
    "    QdrantManager, \n",
    "    AnswerGenerator, \n",
    "    DocumentationQA\n",
    ")\n",
    "\n",
    "# Загрузим данные и оценим текущее состояние системы"
   ]
  },
  {
   "cell_type": "markdown",
   "metadata": {},
   "source": [
    "1. Загрузка и подготовка данных\n",
    "\n",
    "Сначала загрузим данные и подготовим их для тестирования различных подходов ретривала:"
   ]
  },
  {
   "cell_type": "code",
   "execution_count": 13,
   "metadata": {},
   "outputs": [
    {
     "name": "stdout",
     "output_type": "stream",
     "text": [
      "Загружаем статьи...\n",
      "Загружено 292 параграфов из 12 статей\n",
      "Загружено 120 вопросов\n",
      "Первые 3 вопроса:\n",
      "1. What is a collection in the context of Qdrant?\n",
      "2. What must be true about the dimensionality of vectors within a single collection?\n",
      "3. How does Qdrant support different metrics for comparing vectors?\n"
     ]
    }
   ],
   "source": [
    "# Загружаем вопросы из CSV файла\n",
    "def load_questions():\n",
    "    df = pd.read_csv('texts_with_answers.csv')\n",
    "    return df['question'].tolist()\n",
    "\n",
    "# Загружаем статьи\n",
    "def load_articles():\n",
    "    downloader = ArticleDownloader()\n",
    "    preprocessor = TextPreprocessor()\n",
    "    \n",
    "    print(\"Загружаем статьи...\")\n",
    "    articles = downloader.get_all_articles()\n",
    "    \n",
    "    all_paragraphs = []\n",
    "    for article in articles:\n",
    "        # Извлечение параграфов из markdown\n",
    "        paragraphs = preprocessor.extract_text_from_md(article['content'])\n",
    "        \n",
    "        # Фильтрация специфичных заголовков\n",
    "        filtered_paragraphs = preprocessor.filter_paragraphs(paragraphs, article['name'])\n",
    "        \n",
    "        # Добавление в общий список\n",
    "        for paragraph in filtered_paragraphs:\n",
    "            all_paragraphs.append({\n",
    "                'name': article['name'],\n",
    "                'text': paragraph\n",
    "            })\n",
    "    \n",
    "    print(f\"Загружено {len(all_paragraphs)} параграфов из {len(articles)} статей\")\n",
    "    return all_paragraphs\n",
    "\n",
    "# Загружаем данные\n",
    "questions = load_questions()\n",
    "paragraphs = load_articles()\n",
    "\n",
    "print(f\"Загружено {len(questions)} вопросов\")\n",
    "print(f\"Первые 3 вопроса:\")\n",
    "for i, q in enumerate(questions[:3]):\n",
    "    print(f\"{i+1}. {q}\")"
   ]
  },
  {
   "cell_type": "markdown",
   "metadata": {},
   "source": [
    "2. Реализация различных методов ретривала\n",
    "\n",
    "Теперь реализуем различные методы ретривала для сравнения их производительности:"
   ]
  },
  {
   "cell_type": "code",
   "execution_count": 14,
   "metadata": {},
   "outputs": [],
   "source": [
    "class BaseRetriever:\n",
    "    \"\"\"Базовый класс для всех ретриверов\"\"\"\n",
    "    \n",
    "    def __init__(self, paragraphs):\n",
    "        self.paragraphs = paragraphs\n",
    "        self.is_initialized = False\n",
    "    \n",
    "    def initialize(self):\n",
    "        \"\"\"Подготовка ретривера к использованию\"\"\"\n",
    "        pass\n",
    "    \n",
    "    def retrieve(self, query: str, top_k: int = 3) -> List[Dict[str, Any]]:\n",
    "        \"\"\"Получение наиболее релевантных документов для запроса\"\"\"\n",
    "        pass\n",
    "    \n",
    "    def get_name(self) -> str:\n",
    "        \"\"\"Название ретривера для отображения в результатах\"\"\"\n",
    "        return \"Base Retriever\"\n",
    "\n",
    "\n",
    "class DenseRetriever(BaseRetriever):\n",
    "    \"\"\"Ретривер на основе плотных эмбеддингов (из исходного пайплайна)\"\"\"\n",
    "    \n",
    "    def __init__(self, paragraphs, embedding_model='intfloat/multilingual-e5-large'):\n",
    "        super().__init__(paragraphs)\n",
    "        self.embedding_model = embedding_model\n",
    "        self.embedding_manager = EmbeddingManager()\n",
    "        self.qdrant_manager = QdrantManager()\n",
    "        \n",
    "    def initialize(self):\n",
    "        if self.is_initialized:\n",
    "            return\n",
    "        \n",
    "        # Инициализация коллекции Qdrant\n",
    "        print(f\"Инициализация DenseRetriever с моделью {self.embedding_model}...\")\n",
    "        self.qdrant_manager.initialize_collection(vector_size=1024)\n",
    "        # Динамическое определение размерности векторов\n",
    "        vector_size = self.embedding_manager.get_vector_size()\n",
    "        \n",
    "        self.qdrant_manager.initialize_collection(vector_size=vector_size)\n",
    "        \n",
    "        # Добавление документов в Qdrant партиями\n",
    "        batch_size = 100\n",
    "        for i in tqdm(range(0, len(self.paragraphs), batch_size), desc=\"Вычисление эмбеддингов\"):\n",
    "            batch = self.paragraphs[i:i + batch_size]\n",
    "            texts = [item['text'] for item in batch]\n",
    "            \n",
    "            # Вычисление эмбеддингов\n",
    "            embeddings = self.embedding_manager.compute_embeddings(texts)\n",
    "            \n",
    "            # Подготовка payload\n",
    "            payloads = [\n",
    "                {\n",
    "                    'text': item['text'],\n",
    "                    'name': item['name']\n",
    "                }\n",
    "                for item in batch\n",
    "            ]\n",
    "            \n",
    "            # Добавление в Qdrant\n",
    "            self.qdrant_manager.upsert_batch(i, embeddings, payloads)\n",
    "        \n",
    "        self.is_initialized = True\n",
    "        print(\"DenseRetriever инициализирован\")\n",
    "        \n",
    "        # Добавление документов в Qdrant партиями\n",
    "        batch_size = 100\n",
    "        for i in tqdm(range(0, len(self.paragraphs), batch_size), desc=\"Вычисление эмбеддингов\"):\n",
    "            batch = self.paragraphs[i:i + batch_size]\n",
    "            texts = [item['text'] for item in batch]\n",
    "            \n",
    "            # Вычисление эмбеддингов\n",
    "            embeddings = self.embedding_manager.compute_embeddings(texts)\n",
    "            \n",
    "            # Подготовка payload\n",
    "            payloads = [\n",
    "                {\n",
    "                    'text': item['text'],\n",
    "                    'name': item['name']\n",
    "                }\n",
    "                for item in batch\n",
    "            ]\n",
    "            \n",
    "            # Добавление в Qdrant\n",
    "            self.qdrant_manager.upsert_batch(i, embeddings, payloads)\n",
    "        \n",
    "        self.is_initialized = True\n",
    "        print(\"DenseRetriever инициализирован\")\n",
    "    \n",
    "    def retrieve(self, query: str, top_k: int = 3) -> List[Dict[str, Any]]:\n",
    "        if not self.is_initialized:\n",
    "            self.initialize()\n",
    "        \n",
    "        # Вычисление эмбеддинга для запроса\n",
    "        query_vector = self.embedding_manager.compute_single_embedding(query)\n",
    "        \n",
    "        # Поиск похожих документов\n",
    "        results = self.qdrant_manager.search(query_vector, limit=top_k)\n",
    "        \n",
    "        return [\n",
    "            {\n",
    "                'text': hit['text'],\n",
    "                'name': hit['name'],\n",
    "                'score': hit['score']\n",
    "            } \n",
    "            for hit in results\n",
    "        ]\n",
    "    \n",
    "    def get_name(self) -> str:\n",
    "        return f\"Dense Retriever ({self.embedding_model.split('/')[-1]})\"\n",
    "\n",
    "\n",
    "class BM25Retriever(BaseRetriever):\n",
    "    \"\"\"Ретривер на основе алгоритма BM25 (sparse retrieval)\"\"\"\n",
    "    \n",
    "    def __init__(self, paragraphs):\n",
    "        super().__init__(paragraphs)\n",
    "        self.tokenized_corpus = None\n",
    "        self.bm25 = None\n",
    "    \n",
    "    def initialize(self):\n",
    "        if self.is_initialized:\n",
    "            return\n",
    "        \n",
    "        print(\"Инициализация BM25Retriever...\")\n",
    "        \n",
    "        # Токенизация корпуса\n",
    "        texts = [item['text'] for item in self.paragraphs]\n",
    "        tokenized_corpus = [doc.lower().split() for doc in texts]\n",
    "        self.tokenized_corpus = tokenized_corpus\n",
    "        \n",
    "        # Создание объекта BM25\n",
    "        self.bm25 = BM25Okapi(tokenized_corpus)\n",
    "        \n",
    "        self.is_initialized = True\n",
    "        print(\"BM25Retriever инициализирован\")\n",
    "    \n",
    "    def retrieve(self, query: str, top_k: int = 3) -> List[Dict[str, Any]]:\n",
    "        if not self.is_initialized:\n",
    "            self.initialize()\n",
    "        \n",
    "        # Токенизация запроса\n",
    "        tokenized_query = query.lower().split()\n",
    "        \n",
    "        # Получение скоров для каждого документа\n",
    "        doc_scores = self.bm25.get_scores(tokenized_query)\n",
    "        \n",
    "        # Сортировка документов по скору и выбор top_k\n",
    "        top_indices = np.argsort(doc_scores)[::-1][:top_k]\n",
    "        \n",
    "        # Формирование результатов\n",
    "        results = []\n",
    "        for idx in top_indices:\n",
    "            results.append({\n",
    "                'text': self.paragraphs[idx]['text'],\n",
    "                'name': self.paragraphs[idx]['name'],\n",
    "                'score': float(doc_scores[idx])\n",
    "            })\n",
    "        \n",
    "        return results\n",
    "    \n",
    "    def get_name(self) -> str:\n",
    "        return \"BM25 Retriever\"\n",
    "\n",
    "\n",
    "class HybridRetriever(BaseRetriever):\n",
    "    \"\"\"Гибридный ретривер, объединяющий BM25 и Dense эмбеддинги\"\"\"\n",
    "    \n",
    "    def __init__(self, paragraphs, embedding_model='intfloat/multilingual-e5-large', \n",
    "                 dense_weight=0.7, sparse_weight=0.3):\n",
    "        super().__init__(paragraphs)\n",
    "        self.dense_retriever = DenseRetriever(paragraphs, embedding_model)\n",
    "        self.sparse_retriever = BM25Retriever(paragraphs)\n",
    "        self.dense_weight = dense_weight\n",
    "        self.sparse_weight = sparse_weight\n",
    "    \n",
    "    def initialize(self):\n",
    "        if self.is_initialized:\n",
    "            return\n",
    "        \n",
    "        print(f\"Инициализация HybridRetriever (dense_weight={self.dense_weight}, sparse_weight={self.sparse_weight})...\")\n",
    "        self.dense_retriever.initialize()\n",
    "        self.sparse_retriever.initialize()\n",
    "        \n",
    "        self.is_initialized = True\n",
    "        print(\"HybridRetriever инициализирован\")\n",
    "    \n",
    "    def retrieve(self, query: str, top_k: int = 3) -> List[Dict[str, Any]]:\n",
    "        if not self.is_initialized:\n",
    "            self.initialize()\n",
    "        \n",
    "        # Получаем результаты от обоих ретриверов (запрашиваем больше документов)\n",
    "        dense_results = self.dense_retriever.retrieve(query, top_k=top_k*2)\n",
    "        sparse_results = self.sparse_retriever.retrieve(query, top_k=top_k*2)\n",
    "        \n",
    "        # Объединяем результаты\n",
    "        combined_results = {}\n",
    "        \n",
    "        # Нормализуем скоры из sparse ретривера (BM25)\n",
    "        if sparse_results:\n",
    "            max_sparse_score = max([r['score'] for r in sparse_results])\n",
    "            for r in sparse_results:\n",
    "                r['score'] = r['score'] / max_sparse_score if max_sparse_score > 0 else 0\n",
    "        \n",
    "        # Добавляем результаты из dense ретривера\n",
    "        for r in dense_results:\n",
    "            doc_id = r['text'][:100]  # Используем префикс текста как уникальный идентификатор\n",
    "            combined_results[doc_id] = {\n",
    "                'text': r['text'],\n",
    "                'name': r['name'],\n",
    "                'dense_score': r['score'],\n",
    "                'sparse_score': 0.0\n",
    "            }\n",
    "        \n",
    "        # Добавляем результаты из sparse ретривера\n",
    "        for r in sparse_results:\n",
    "            doc_id = r['text'][:100]\n",
    "            if doc_id in combined_results:\n",
    "                combined_results[doc_id]['sparse_score'] = r['score']\n",
    "            else:\n",
    "                combined_results[doc_id] = {\n",
    "                    'text': r['text'],\n",
    "                    'name': r['name'],\n",
    "                    'dense_score': 0.0,\n",
    "                    'sparse_score': r['score']\n",
    "                }\n",
    "        \n",
    "        # Вычисляем общий скор как взвешенную сумму\n",
    "        for doc_id, data in combined_results.items():\n",
    "            data['score'] = (self.dense_weight * data['dense_score'] + \n",
    "                             self.sparse_weight * data['sparse_score'])\n",
    "        \n",
    "        # Сортируем по общему скору и выбираем top_k\n",
    "        sorted_results = sorted(combined_results.values(), key=lambda x: x['score'], reverse=True)[:top_k]\n",
    "        \n",
    "        # Формируем результаты\n",
    "        results = []\n",
    "        for item in sorted_results:\n",
    "            results.append({\n",
    "                'text': item['text'],\n",
    "                'name': item['name'],\n",
    "                'score': item['score'],\n",
    "                'dense_score': item['dense_score'],\n",
    "                'sparse_score': item['sparse_score']\n",
    "            })\n",
    "        \n",
    "        return results\n",
    "    \n",
    "    def get_name(self) -> str:\n",
    "        return f\"Hybrid Retriever (dense={self.dense_weight}, sparse={self.sparse_weight})\"\n",
    "\n",
    "\n",
    "class RerankerRetriever(BaseRetriever):\n",
    "    \"\"\"Ретривер с двухэтапным поиском: сначала получаем кандидатов, затем реранжируем их\"\"\"\n",
    "    \n",
    "    def __init__(self, paragraphs, base_retriever=None, reranker_model=\"cross-encoder/ms-marco-MiniLM-L-6-v2\"):\n",
    "        super().__init__(paragraphs)\n",
    "        self.base_retriever = base_retriever if base_retriever else DenseRetriever(paragraphs)\n",
    "        self.reranker_model_name = reranker_model\n",
    "        self.reranker = None\n",
    "    \n",
    "    def initialize(self):\n",
    "        if self.is_initialized:\n",
    "            return\n",
    "        \n",
    "        print(f\"Инициализация RerankerRetriever с моделью {self.reranker_model_name}...\")\n",
    "        # Инициализируем базовый ретривер\n",
    "        self.base_retriever.initialize()\n",
    "        \n",
    "        # Загружаем модель reranker\n",
    "        try:\n",
    "            from sentence_transformers import CrossEncoder\n",
    "            self.reranker = CrossEncoder(self.reranker_model_name)\n",
    "            print(\"Модель реранкера загружена\")\n",
    "        except ImportError:\n",
    "            print(\"Для использования RerankerRetriever установите sentence-transformers: pip install sentence-transformers\")\n",
    "            raise\n",
    "        \n",
    "        self.is_initialized = True\n",
    "        print(\"RerankerRetriever инициализирован\")\n",
    "    \n",
    "    def retrieve(self, query: str, top_k: int = 3, candidates_k: int = 10) -> List[Dict[str, Any]]:\n",
    "        if not self.is_initialized:\n",
    "            self.initialize()\n",
    "        \n",
    "        # Получаем кандидатов с помощью базового ретривера\n",
    "        candidates = self.base_retriever.retrieve(query, top_k=candidates_k)\n",
    "        \n",
    "        # Подготавливаем пары для реранжирования\n",
    "        pairs = [(query, candidate['text']) for candidate in candidates]\n",
    "        \n",
    "        # Получаем скоры от реранкера\n",
    "        reranker_scores = self.reranker.predict(pairs)\n",
    "        \n",
    "        # Объединяем результаты с новыми скорами\n",
    "        for i, candidate in enumerate(candidates):\n",
    "            candidate['reranker_score'] = float(reranker_scores[i])\n",
    "            candidate['original_score'] = candidate['score']\n",
    "            candidate['score'] = candidate['reranker_score']  # Заменяем оригинальный скор на скор реранкера\n",
    "        \n",
    "        # Сортируем по скору реранкера и выбираем top_k\n",
    "        reranked_results = sorted(candidates, key=lambda x: x['reranker_score'], reverse=True)[:top_k]\n",
    "        \n",
    "        return reranked_results\n",
    "    \n",
    "    def get_name(self) -> str:\n",
    "        return f\"Reranker ({self.base_retriever.get_name()} + {self.reranker_model_name.split('/')[-1]})\""
   ]
  },
  {
   "cell_type": "markdown",
   "metadata": {},
   "source": [
    "3. Оценка качества ретривала\n",
    "\n",
    "Теперь реализуем функции для оценки качества ретривала:"
   ]
  },
  {
   "cell_type": "code",
   "execution_count": 15,
   "metadata": {},
   "outputs": [],
   "source": [
    "def evaluate_retriever(retriever, questions, ground_truth=None, top_k=3, n_questions=None):\n",
    "    \"\"\"Оценка качества ретривера на заданных вопросах\"\"\"\n",
    "    if not retriever.is_initialized:\n",
    "        retriever.initialize()\n",
    "    \n",
    "    if n_questions and n_questions < len(questions):\n",
    "        selected_questions = questions[:n_questions]\n",
    "    else:\n",
    "        selected_questions = questions\n",
    "    \n",
    "    results = []\n",
    "    times = []\n",
    "    precision_at_k = []\n",
    "    recall_at_k = []\n",
    "    ndcg_at_k = []\n",
    "    \n",
    "    print(f\"Оценка {retriever.get_name()} на {len(selected_questions)} вопросах...\")\n",
    "    for i, question in enumerate(tqdm(selected_questions)):\n",
    "        # Засекаем время\n",
    "        start_time = time.time()\n",
    "        \n",
    "        # Получаем результаты\n",
    "        retrieved_docs = retriever.retrieve(question, top_k=top_k)\n",
    "        \n",
    "        # Вычисляем время\n",
    "        retrieval_time = time.time() - start_time\n",
    "        times.append(retrieval_time)\n",
    "        \n",
    "        # Если есть информация о релевантности, вычисляем метрики\n",
    "        if ground_truth and i in ground_truth:\n",
    "            relevant_docs = ground_truth[i]\n",
    "            \n",
    "            # Вычисляем точность (Precision@K)\n",
    "            retrieved_ids = [doc['text'][:100] for doc in retrieved_docs]  # Используем начало текста как ID\n",
    "            relevant_ids = [doc[:100] for doc in relevant_docs]\n",
    "            \n",
    "            # Precision@K - доля релевантных документов среди найденных\n",
    "            relevant_retrieved = sum(1 for doc_id in retrieved_ids if doc_id in relevant_ids)\n",
    "            precision = relevant_retrieved / len(retrieved_docs) if retrieved_docs else 0\n",
    "            precision_at_k.append(precision)\n",
    "            \n",
    "            # Recall@K - доля найденных релевантных документов от всех релевантных\n",
    "            recall = relevant_retrieved / len(relevant_ids) if relevant_ids else 0\n",
    "            recall_at_k.append(recall)\n",
    "            \n",
    "            # NDCG@K - нормализованный дисконтированный кумулятивный выигрыш\n",
    "            dcg = 0\n",
    "            idcg = 0\n",
    "            \n",
    "            # DCG = rel₁ + ∑ᵏᵢ₌₂ relᵢ/log₂(i)\n",
    "            for j, doc_id in enumerate(retrieved_ids):\n",
    "                rel = 1 if doc_id in relevant_ids else 0\n",
    "                if j == 0:\n",
    "                    dcg += rel\n",
    "                else:\n",
    "                    dcg += rel / np.log2(j + 1)\n",
    "            \n",
    "            # IDCG - идеальный DCG (если все найденные документы релевантны)\n",
    "            ideal_rels = sorted([1 if doc_id in relevant_ids else 0 for doc_id in retrieved_ids], reverse=True)\n",
    "            for j, rel in enumerate(ideal_rels):\n",
    "                if j == 0:\n",
    "                    idcg += rel\n",
    "                else:\n",
    "                    idcg += rel / np.log2(j + 1)\n",
    "            \n",
    "            ndcg = dcg / idcg if idcg > 0 else 0\n",
    "            ndcg_at_k.append(ndcg)\n",
    "        \n",
    "        # Сохраняем результаты\n",
    "        result = {\n",
    "            'question_id': i,\n",
    "            'question': question,\n",
    "            'retrieved_docs': retrieved_docs,\n",
    "            'retrieval_time': retrieval_time\n",
    "        }\n",
    "        \n",
    "        # Добавляем метрики если есть ground truth\n",
    "        if ground_truth and i in ground_truth:\n",
    "            result['precision'] = precision\n",
    "            result['recall'] = recall\n",
    "            result['ndcg'] = ndcg\n",
    "            \n",
    "        results.append(result)\n",
    "    \n",
    "    # Вычисляем агрегированные метрики\n",
    "    avg_time = sum(times) / len(times)\n",
    "    metrics = {\n",
    "        'avg_time': avg_time,\n",
    "        'max_time': max(times),\n",
    "        'min_time': min(times)\n",
    "    }\n",
    "    \n",
    "    # Добавляем метрики качества если есть ground truth\n",
    "    if ground_truth and precision_at_k:\n",
    "        metrics['avg_precision'] = sum(precision_at_k) / len(precision_at_k)\n",
    "        metrics['avg_recall'] = sum(recall_at_k) / len(recall_at_k)\n",
    "        metrics['avg_ndcg'] = sum(ndcg_at_k) / len(ndcg_at_k)\n",
    "    \n",
    "    print(f\"Средняя скорость ретривала: {avg_time:.4f} сек\")\n",
    "    if ground_truth and precision_at_k:\n",
    "        print(f\"Средний Precision@{top_k}: {metrics['avg_precision']:.4f}\")\n",
    "        print(f\"Средний Recall@{top_k}: {metrics['avg_recall']:.4f}\")\n",
    "        print(f\"Средний NDCG@{top_k}: {metrics['avg_ndcg']:.4f}\")\n",
    "    \n",
    "    return results, metrics\n",
    "\n",
    "\n",
    "def compare_retrievers(questions, paragraphs, ground_truth=None, n_questions=10, top_k=3):\n",
    "    \"\"\"Сравнение различных ретриверов\"\"\"\n",
    "    # Создаем ретриверы\n",
    "    retrievers = [\n",
    "        DenseRetriever(paragraphs),\n",
    "        BM25Retriever(paragraphs),\n",
    "        HybridRetriever(paragraphs, dense_weight=0.7, sparse_weight=0.3),\n",
    "        RerankerRetriever(paragraphs, base_retriever=HybridRetriever(paragraphs))\n",
    "    ]\n",
    "    # Подготовка ground truth для оценки\n",
    "    ground_truth = prepare_ground_truth(questions, paragraphs, n_questions)\n",
    "    \n",
    "    # Оцениваем каждый ретривер\n",
    "    all_results = {}\n",
    "    all_metrics = {}\n",
    "    for retriever in retrievers:\n",
    "        results, metrics = evaluate_retriever(retriever, questions, ground_truth, n_questions=n_questions, top_k=top_k)\n",
    "        all_results[retriever.get_name()] = results\n",
    "        all_metrics[retriever.get_name()] = metrics\n",
    "    \n",
    "    return all_results, all_metrics\n",
    "\n",
    "\n",
    "def visualize_results(all_results, all_metrics, top_k=3):\n",
    "    \"\"\"Визуализация результатов сравнения ретриверов\"\"\"\n",
    "    retrievers = list(all_metrics.keys())\n",
    "    \n",
    "    # Создаем фигуру с несколькими графиками\n",
    "    fig, axes = plt.subplots(2, 2, figsize=(16, 12))\n",
    "    fig.suptitle('Сравнение ретриверов', fontsize=16)\n",
    "    \n",
    "    # График времени ретривала\n",
    "    avg_times = [all_metrics[retriever]['avg_time'] for retriever in retrievers]\n",
    "    axes[0, 0].bar(retrievers, avg_times, color='skyblue')\n",
    "    axes[0, 0].set_title('Среднее время ретривала')\n",
    "    axes[0, 0].set_ylabel('Время (сек)')\n",
    "    axes[0, 0].tick_params(axis='x', rotation=45)\n",
    "    \n",
    "    # Проверяем, есть ли метрики качества\n",
    "    if 'avg_precision' in all_metrics[retrievers[0]]:\n",
    "        # График Precision@K\n",
    "        precisions = [all_metrics[retriever]['avg_precision'] for retriever in retrievers]\n",
    "        axes[0, 1].bar(retrievers, precisions, color='lightgreen')\n",
    "        axes[0, 1].set_title(f'Средний Precision@{top_k}')\n",
    "        axes[0, 1].set_ylabel('Precision')\n",
    "        axes[0, 1].tick_params(axis='x', rotation=45)\n",
    "        \n",
    "        # График Recall@K\n",
    "        recalls = [all_metrics[retriever]['avg_recall'] for retriever in retrievers]\n",
    "        axes[1, 0].bar(retrievers, recalls, color='salmon')\n",
    "        axes[1, 0].set_title(f'Средний Recall@{top_k}')\n",
    "        axes[1, 0].set_ylabel('Recall')\n",
    "        axes[1, 0].tick_params(axis='x', rotation=45)\n",
    "        \n",
    "        # График NDCG@K\n",
    "        ndcgs = [all_metrics[retriever]['avg_ndcg'] for retriever in retrievers]\n",
    "        axes[1, 1].bar(retrievers, ndcgs, color='gold')\n",
    "        axes[1, 1].set_title(f'Средний NDCG@{top_k}')\n",
    "        axes[1, 1].set_ylabel('NDCG')\n",
    "        axes[1, 1].tick_params(axis='x', rotation=45)\n",
    "    \n",
    "    plt.tight_layout()\n",
    "    plt.subplots_adjust(top=0.9)\n",
    "    plt.show()\n",
    "    \n",
    "    # Выводим таблицу с метриками\n",
    "    metrics_df = pd.DataFrame(all_metrics).T\n",
    "    print(\"\\nТаблица метрик:\")\n",
    "    display(metrics_df)\n",
    "    \n",
    "    # Сравнение качества ретривалов для нескольких вопросов\n",
    "    sample_questions = min(5, len(all_results[retrievers[0]]))\n",
    "    \n",
    "    for q_idx in range(sample_questions):\n",
    "        print(f\"\\n\\nПример #{q_idx+1}\")\n",
    "        question = all_results[retrievers[0]][q_idx]['question']\n",
    "        print(f\"Вопрос: {question}\")\n",
    "        \n",
    "        for retriever_name in retrievers:\n",
    "            print(f\"\\n{retriever_name}:\")\n",
    "            \n",
    "            retrieval_result = all_results[retriever_name][q_idx]\n",
    "            docs = retrieval_result['retrieved_docs']\n",
    "            \n",
    "            for i, doc in enumerate(docs[:top_k]):\n",
    "                # Укорачиваем текст для отображения\n",
    "                short_text = doc['text'][:150] + \"...\" if len(doc['text']) > 150 else doc['text']\n",
    "                print(f\"  {i+1}. [{doc['name']}] (score: {doc['score']:.4f}): {short_text}\")\n",
    "                \n",
    "            # Выводим метрики для этого вопроса, если они есть\n",
    "            if 'precision' in retrieval_result:\n",
    "                print(f\"  Precision: {retrieval_result['precision']:.4f}, \" \n",
    "                      f\"Recall: {retrieval_result['recall']:.4f}, \"\n",
    "                      f\"NDCG: {retrieval_result['ndcg']:.4f}\")\n",
    "\n",
    "\n",
    "def prepare_ground_truth(questions, paragraphs, n_questions=20):\n",
    "    \"\"\"\n",
    "    Подготовка эталонной разметки для оценки качества ретривалов.\n",
    "    В реальной системе это должно быть сделано экспертами.\n",
    "    Здесь мы имитируем это, используя смешанный подход.\n",
    "    \"\"\"\n",
    "    if n_questions > len(questions):\n",
    "        n_questions = len(questions)\n",
    "    \n",
    "    print(f\"Подготовка эталонной разметки для {n_questions} вопросов...\")\n",
    "    \n",
    "    # Создаем разные типы ретриверов для снижения предвзятости\n",
    "    retrievers = [\n",
    "        DenseRetriever(paragraphs),\n",
    "        BM25Retriever(paragraphs),\n",
    "        HybridRetriever(paragraphs)\n",
    "    ]\n",
    "    \n",
    "    # Инициализируем ретриверы\n",
    "    for retriever in retrievers:\n",
    "        retriever.initialize()\n",
    "    \n",
    "    ground_truth = {}\n",
    "    for i, question in enumerate(tqdm(questions[:n_questions])):\n",
    "        if i >= n_questions:\n",
    "            break\n",
    "            \n",
    "        # Получаем результаты от всех ретриверов\n",
    "        all_retrieved = []\n",
    "        for retriever in retrievers:\n",
    "            results = retriever.retrieve(question, top_k=5)  # Берем top-5 от каждого ретривера\n",
    "            all_retrieved.extend([doc['text'] for doc in results])\n",
    "        \n",
    "        # Удаляем дубликаты\n",
    "        unique_docs = list(set(all_retrieved))\n",
    "        \n",
    "        # В реальности здесь должна быть экспертная оценка\n",
    "        # Для демонстрации просто берем все найденные документы как релевантные\n",
    "        ground_truth[i] = unique_docs\n",
    "    \n",
    "    print(f\"Создана эталонная разметка для {len(ground_truth)} вопросов\")\n",
    "    return ground_truth\n",
    "\n",
    "\n",
    "def run_full_comparison(questions, paragraphs, n_questions=10):\n",
    "    \"\"\"Расширенное сравнение ретриверов с оценкой метрик качества\"\"\"\n",
    "    # Подготовка ground truth для оценки\n",
    "    ground_truth = prepare_ground_truth(questions, paragraphs, n_questions)\n",
    "    \n",
    "    # Создаем расширенный список ретриверов\n",
    "    retrievers = [\n",
    "        DenseRetriever(paragraphs),\n",
    "        BM25Retriever(paragraphs),\n",
    "        HybridRetriever(paragraphs, dense_weight=0.7, sparse_weight=0.3),\n",
    "        HybridRetriever(paragraphs, dense_weight=0.5, sparse_weight=0.5),\n",
    "        RerankerRetriever(paragraphs, base_retriever=DenseRetriever(paragraphs))\n",
    "    ]\n",
    "    \n",
    "    # Добавляем SPLADE если установлены необходимые зависимости\n",
    "    try:\n",
    "        splade_retriever = SpladeRetriever(paragraphs)\n",
    "        retrievers.append(splade_retriever)\n",
    "    except:\n",
    "        print(\"SPLADE не будет использоваться из-за отсутствия необходимых зависимостей\")\n",
    "    \n",
    "    # Оцениваем каждый ретривер\n",
    "    all_results = {}\n",
    "    all_metrics = {}\n",
    "    for retriever in retrievers:\n",
    "        results, metrics = evaluate_retriever(retriever, questions, ground_truth, n_questions=n_questions)\n",
    "        all_results[retriever.get_name()] = results\n",
    "        all_metrics[retriever.get_name()] = metrics\n",
    "    \n",
    "    # Визуализируем результаты\n",
    "    visualize_results(all_results, all_metrics)\n",
    "    \n",
    "    return all_results, all_metrics\n",
    "\n",
    "\n",
    "def manual_evaluation(all_results, question_indices):\n",
    "    \"\"\"Ручная оценка результатов для выбранных вопросов\"\"\"\n",
    "    retrievers = list(all_results.keys())\n",
    "    \n",
    "    for q_idx in question_indices:\n",
    "        print(f\"\\n\\n=== Вопрос #{q_idx+1} ===\")\n",
    "        question = all_results[retrievers[0]][q_idx]['question']\n",
    "        print(f\"Вопрос: {question}\")\n",
    "        \n",
    "        # Показываем результаты каждого ретривера\n",
    "        for retriever_name in retrievers:\n",
    "            print(f\"\\n--- {retriever_name} ---\")\n",
    "            \n",
    "            retrieval_result = all_results[retriever_name][q_idx]\n",
    "            docs = retrieval_result['retrieved_docs']\n",
    "            \n",
    "            for i, doc in enumerate(docs):\n",
    "                print(f\"\\nДокумент {i+1}. [{doc['name']}] (score: {doc['score']:.4f}):\")\n",
    "                print(doc['text'])\n",
    "        \n",
    "        # Просим пользователя оценить ретриверы\n",
    "        print(\"\\nКакой ретривер показал лучшие результаты для этого вопроса?\")\n",
    "        for i, retriever_name in enumerate(retrievers):\n",
    "            print(f\"{i+1}. {retriever_name}\")"
   ]
  },
  {
   "cell_type": "markdown",
   "metadata": {},
   "source": [
    "4. Реализация и тестирование SPLADE (Sparse Lexical And Dense Embeddings)\n",
    "\n",
    "SPLADE - это мощный подход, который объединяет преимущества sparse (лексических) и dense (семантических) эмбеддингов:"
   ]
  },
  {
   "cell_type": "code",
   "execution_count": 16,
   "metadata": {},
   "outputs": [],
   "source": [
    "# class SpladeRetriever(BaseRetriever):\n",
    "#     \"\"\"Ретривер на основе SPLADE (Sparse Lexical And Dense Embeddings)\"\"\"\n",
    "#     \n",
    "#     def __init__(self, paragraphs, splade_model=\"naver/splade-cocondenser-ensembledistil\"):\n",
    "#         super().__init__(paragraphs)\n",
    "#         self.splade_model_name = splade_model\n",
    "#         self.tokenizer = None\n",
    "#         self.model = None\n",
    "#         self.doc_vectors = None\n",
    "#     \n",
    "#     def initialize(self):\n",
    "# #         if self.is_initialized:\n",
    "#             return\n",
    "        \n",
    "#         print(f\"Инициализация SpladeRetriever с моделью {self.splade_model_name}...\")\n",
    "        \n",
    "        # Загружаем модель и токенизатор\n",
    "#         try:\n",
    "#             self.tokenizer = AutoTokenizer.from_pretrained(self.splade_model_name)\n",
    "#             self.model = AutoModel.from_pretrained(self.splade_model_name)\n",
    "#             print(\"Модель SPLADE загружена\")\n",
    "#         except Exception as e:\n",
    "#             print(f\"Ошибка загрузки модели SPLADE: {e}\")\n",
    "#             print(\"Для использования SpladeRetriever установите transformers: pip install transformers\")\n",
    "#             raise\n",
    "        \n",
    "        # Вычисляем векторы для всех документов\n",
    "#         self.doc_vectors = []\n",
    "#         batch_size = 8  # Меньший размер батча из-за требований к памяти SPLADE\n",
    "        \n",
    "#         for i in tqdm(range(0, len(self.paragraphs), batch_size), desc=\"Вычисление SPLADE векторов\"):\n",
    "#             batch = self.paragraphs[i:i + batch_size]\n",
    "#             texts = [item['text'] for item in batch]\n",
    "            \n",
    "            # Вычисляем векторы SPLADE\n",
    "#             with torch.no_grad():\n",
    "#                 inputs = self.tokenizer(texts, padding=True, truncation=True, \n",
    "#                                          return_tensors=\"pt\", max_length=512)\n",
    "#                 outputs = self.model(**inputs)\n",
    "                # SPLADE использует log(1 + ReLU(h))\n",
    "#                 sparse_vecs = torch.log(1 + torch.relu(outputs.logits))\n",
    "                \n",
    "                # Сохраняем векторы\n",
    "#                 for vec in sparse_vecs:\n",
    "#                     self.doc_vectors.append(vec.detach().cpu())\n",
    "        \n",
    "#         self.is_initialized = True\n",
    "#         print(\"SpladeRetriever инициализирован\")\n",
    "#     \n",
    "#     def retrieve(self, query: str, top_k: int = 3) -> List[Dict[str, Any]]:\n",
    "#         if not self.is_initialized:\n",
    "#            self.initialize()\n",
    "        \n",
    "        # Вычисляем вектор запроса\n",
    "#         with torch.no_grad():\n",
    "#             inputs = self.tokenizer(query, return_tensors=\"pt\", truncation=True, max_length=512)\n",
    "#             outputs = self.model(**inputs)\n",
    "#             query_vec = torch.log(1 + torch.relu(outputs.logits)).detach().cpu()[0]\n",
    "        \n",
    "        # Вычисляем скоры для всех документов (dot product)\n",
    "#         scores = []\n",
    "#         for doc_vec in self.doc_vectors:\n",
    "#             score = torch.dot(query_vec, doc_vec).item()\n",
    "#             scores.append(score)\n",
    "        \n",
    "        # Находим документы с наивысшими скорами\n",
    "#         top_indices = np.argsort(scores)[::-1][:top_k]\n",
    "        \n",
    "        # Формируем результаты\n",
    "# # #         results = []\n",
    "#         for idx in top_indices:\n",
    "#             results.append({\n",
    "#                 'text': self.paragraphs[idx]['text'],\n",
    "#                 'name': self.paragraphs[idx]['name'],\n",
    "#                 'score': scores[idx]\n",
    "#             })\n",
    "        \n",
    "#         return results\n",
    "    \n",
    "#     def get_name(self) -> str:\n",
    "#         return f\"SPLADE Retriever ({self.splade_model_name.split('/')[-1]})\""
   ]
  },
  {
   "cell_type": "markdown",
   "metadata": {},
   "source": [
    "5. Тестирование и выбор лучшего подхода\n",
    "\n",
    "Теперь используем реализованные ретриверы для тестирования и выбора лучшего подхода:"
   ]
  },
  {
   "cell_type": "code",
   "execution_count": 17,
   "metadata": {},
   "outputs": [],
   "source": [
    "# Запускаем полное сравнение\n",
    "def run_full_comparison(questions, paragraphs, n_questions=10):\n",
    "    # Создаем расширенный список ретриверов\n",
    "    retrievers = [\n",
    "        DenseRetriever(paragraphs),\n",
    "        BM25Retriever(paragraphs),\n",
    "        HybridRetriever(paragraphs, dense_weight=0.7, sparse_weight=0.3),\n",
    "        HybridRetriever(paragraphs, dense_weight=0.5, sparse_weight=0.5),\n",
    "        RerankerRetriever(paragraphs, base_retriever=DenseRetriever(paragraphs))\n",
    "    ]\n",
    "    \n",
    "    # Добавляем SPLADE если установлены необходимые зависимости\n",
    "    try:\n",
    "        splade_retriever = SpladeRetriever(paragraphs)\n",
    "        retrievers.append(splade_retriever)\n",
    "    except:\n",
    "        print(\"SPLADE не будет использоваться из-за отсутствия необходимых зависимостей\")\n",
    "    \n",
    "    ground_truth = prepare_ground_truth(questions, paragraphs, n_questions)\n",
    "    \n",
    "    # Оцениваем каждый ретривер\n",
    "    all_results = {}\n",
    "    all_metrics = {}\n",
    "    for retriever in retrievers:\n",
    "        results, metrics = evaluate_retriever(retriever, questions, ground_truth, n_questions=n_questions)\n",
    "        all_results[retriever.get_name()] = results\n",
    "        all_metrics[retriever.get_name()] = metrics\n",
    "    \n",
    "    # Визуализируем результаты\n",
    "    visualize_results(all_results, all_metrics)\n",
    "    \n",
    "    return all_results\n",
    "\n",
    "# Запускаем ручную оценку для нескольких вопросов\n",
    "def manual_review(all_results, question_indices=[0, 1, 2]):\n",
    "    manual_evaluation(all_results, question_indices)"
   ]
  },
  {
   "cell_type": "markdown",
   "metadata": {},
   "source": [
    "6. Применение лучшего ретривера в окончательном пайплайне\n",
    "\n",
    "После определения лучшего ретривера, реализуем окончательный пайплайн с выбранным подходом:"
   ]
  },
  {
   "cell_type": "code",
   "execution_count": 18,
   "metadata": {},
   "outputs": [],
   "source": [
    "class EnhancedDocumentationQA:\n",
    "    \"\"\"Улучшенная версия основного класса DocumentationQA с возможностью выбора ретривера\"\"\"\n",
    "    \n",
    "    def __init__(self, retriever_type=\"hybrid\"):\n",
    "        \"\"\"\n",
    "        Инициализация с выбором типа ретривера:\n",
    "        - \"dense\": Dense эмбеддинги\n",
    "        - \"bm25\": BM25 ретривер\n",
    "        - \"hybrid\": Гибридный подход\n",
    "        - \"reranker\": Реранкер поверх другого ретривера\n",
    "        - \"splade\": SPLADE ретривер\n",
    "        \"\"\"\n",
    "        self.article_downloader = ArticleDownloader()\n",
    "        self.text_preprocessor = TextPreprocessor()\n",
    "        self.answer_generator = AnswerGenerator()\n",
    "        self.retriever_type = retriever_type\n",
    "        self.retriever = None\n",
    "        self.paragraphs = None\n",
    "        self.is_initialized = False\n",
    "    \n",
    "    def initialize(self):\n",
    "        \"\"\"Инициализирует систему, подготавливая данные и ретривер\"\"\"\n",
    "        if self.is_initialized:\n",
    "            return\n",
    "        \n",
    "        # Загружаем статьи, если еще не загружены\n",
    "        if not self.paragraphs:\n",
    "            articles = self.article_downloader.get_all_articles()\n",
    "            \n",
    "            self.paragraphs = []\n",
    "            for article in articles:\n",
    "                # Извлечение параграфов из markdown\n",
    "                paragraphs = self.text_preprocessor.extract_text_from_md(article['content'])\n",
    "                \n",
    "                # Фильтрация специфичных заголовков\n",
    "                filtered_paragraphs = self.text_preprocessor.filter_paragraphs(paragraphs, article['name'])\n",
    "                \n",
    "                # Добавление в общий список\n",
    "                for paragraph in filtered_paragraphs:\n",
    "                    self.paragraphs.append({\n",
    "                        'name': article['name'],\n",
    "                        'text': paragraph\n",
    "                    })\n",
    "        \n",
    "        # Инициализируем выбранный ретривер\n",
    "        if self.retriever_type == \"dense\":\n",
    "            self.retriever = DenseRetriever(self.paragraphs)\n",
    "        elif self.retriever_type == \"bm25\":\n",
    "            self.retriever = BM25Retriever(self.paragraphs)\n",
    "        elif self.retriever_type == \"hybrid\":\n",
    "            self.retriever = HybridRetriever(self.paragraphs)\n",
    "        elif self.retriever_type == \"reranker\":\n",
    "            base_retriever = HybridRetriever(self.paragraphs)\n",
    "            self.retriever = RerankerRetriever(self.paragraphs, base_retriever=base_retriever)\n",
    "        elif self.retriever_type == \"splade\":\n",
    "            try:\n",
    "                self.retriever = SpladeRetriever(self.paragraphs)\n",
    "            except:\n",
    "                print(\"SPLADE не доступен, используем Hybrid Retriever как запасной вариант\")\n",
    "                self.retriever = HybridRetriever(self.paragraphs)\n",
    "        else:\n",
    "            print(f\"Неизвестный тип ретривера: {self.retriever_type}, используем Hybrid Retriever\")\n",
    "            self.retriever = HybridRetriever(self.paragraphs)\n",
    "        \n",
    "        # Инициализируем ретривер\n",
    "        self.retriever.initialize()\n",
    "        \n",
    "        self.is_initialized = True\n",
    "    \n",
    "    def search_similar_paragraphs(self, user_query: str, top_k: int = 3) -> List[Tuple[str, str, float]]:\n",
    "        \"\"\"Ищет параграфы, похожие на запрос пользователя.\"\"\"\n",
    "        # Инициализация, если еще не инициализирована\n",
    "        if not self.is_initialized:\n",
    "            self.initialize()\n",
    "        \n",
    "        # Поиск похожих документов с помощью выбранного ретривера\n",
    "        results = self.retriever.retrieve(user_query, top_k=top_k)\n",
    "        \n",
    "        return [(hit['text'], hit['name'], hit['score']) for hit in results]\n",
    "    \n",
    "    def get_answer(self, user_question: str) -> str:\n",
    "        \"\"\"Отвечает на вопрос пользователя.\"\"\"\n",
    "        # Инициализация, если еще не инициализирована\n",
    "        if not self.is_initialized:\n",
    "            self.initialize()\n",
    "        \n",
    "        # Поиск похожих параграфов\n",
    "        similar_paragraphs = self.search_similar_paragraphs(user_question)\n",
    "        \n",
    "        # Формирование контекста для генерации ответа\n",
    "        context_texts = \"\\n\\n\".join([\n",
    "            f\"Fragment {i+1} (from {doc_name}, similarity: {score:.3f}):\\n{text}\"\n",
    "            for i, (text, doc_name, score) in enumerate(similar_paragraphs)\n",
    "        ])\n",
    "        \n",
    "        # Генерация ответа\n",
    "        answer = self.answer_generator.generate_answer(user_question, context_texts)\n",
    "        return answer"
   ]
  },
  {
   "cell_type": "markdown",
   "metadata": {},
   "source": [
    "7. Проведение экспериментов и выбор оптимального подхода\n",
    "\n",
    "Теперь проведем эксперименты для выбора оптимального подхода:"
   ]
  },
  {
   "cell_type": "code",
   "execution_count": 19,
   "metadata": {},
   "outputs": [],
   "source": [
    "# Запустим все подготовленные ретриверы и сравним их на наших вопросах\n",
    "def run_experiments(n_questions=10):\n",
    "    print(\"Загрузка вопросов и документов...\")\n",
    "    questions = load_questions()\n",
    "    paragraphs = load_articles()\n",
    "    \n",
    "    print(f\"Проведение экспериментов на {n_questions} вопросах...\")\n",
    "    all_results = run_full_comparison(questions, paragraphs, n_questions=n_questions)\n",
    "    \n",
    "    # Ручная оценка для 3 первых вопросов\n",
    "    manual_review(all_results)\n",
    "    \n",
    "    return all_results\n",
    "\n",
    "# Тестирование выбранного лучшего подхода на всех вопросах\n",
    "def test_best_retriever(best_retriever_type=\"hybrid\", n_questions=None):\n",
    "    questions = load_questions()\n",
    "    if n_questions:\n",
    "        questions = questions[:n_questions]\n",
    "    \n",
    "    # Создаем QA систему с выбранным ретривером\n",
    "    qa_system = EnhancedDocumentationQA(retriever_type=best_retriever_type)\n",
    "    qa_system.initialize()\n",
    "    \n",
    "    results = []\n",
    "    for i, question in enumerate(tqdm(questions, desc=f\"Тестирование {best_retriever_type} ретривера\")):\n",
    "        # Получаем похожие параграфы\n",
    "        similar_paragraphs = qa_system.search_similar_paragraphs(question)\n",
    "        \n",
    "        # Генерируем ответ\n",
    "        answer = qa_system.get_answer(question)\n",
    "        \n",
    "        results.append({\n",
    "            'question': question,\n",
    "            'similar_paragraphs': similar_paragraphs,\n",
    "            'answer': answer\n",
    "        })\n",
    "        \n",
    "        # Выводим результаты для первых нескольких вопросов\n",
    "        if i < 3:\n",
    "            print(f\"\\nВопрос {i+1}: {question}\")\n",
    "            print(\"\\nНайденные параграфы:\")\n",
    "            for j, (text, doc_name, score) in enumerate(similar_paragraphs):\n",
    "                print(f\"Параграф {j+1} (из {doc_name}, схожесть: {score:.3f}):\")\n",
    "                print(text[:200] + \"...\" if len(text) > 200 else text)\n",
    "            print(\"\\nОтвет:\", answer[:200] + \"...\" if len(answer) > 200 else answer)\n",
    "    \n",
    "    return results"
   ]
  },
  {
   "cell_type": "markdown",
   "metadata": {},
   "source": [
    "8. Сравнение различных моделей эмбеддингов\n",
    "\n",
    "Дополнительно протестируем различные модели эмбеддингов для Dense ретривера:"
   ]
  },
  {
   "cell_type": "code",
   "execution_count": 20,
   "metadata": {},
   "outputs": [],
   "source": [
    "def compare_embedding_models(paragraphs, questions, embedding_models, n_questions=5):\n",
    "    \"\"\"Сравнение различных моделей эмбеддингов для Dense ретривера\"\"\"\n",
    "    # Добавляем необходимые импорты\n",
    "    from qdrant_client import QdrantClient\n",
    "    from qdrant_client.models import VectorParams, Distance, PointStruct\n",
    "    from sentence_transformers import SentenceTransformer\n",
    "    \n",
    "    results = {}\n",
    "    \n",
    "    for model_name in embedding_models:\n",
    "        print(f\"\\nТестирование модели: {model_name}\")\n",
    "        \n",
    "        # Создаем класс с модифицированной моделью эмбеддингов\n",
    "        class CustomEmbeddingManager:\n",
    "            def __init__(self):\n",
    "                self.model = SentenceTransformer(model_name)\n",
    "                \n",
    "            def compute_embeddings(self, texts):\n",
    "                return self.model.encode(texts, convert_to_numpy=True)\n",
    "            \n",
    "            def compute_single_embedding(self, text):\n",
    "                return self.model.encode(text, convert_to_numpy=True)\n",
    "            \n",
    "            def get_vector_size(self):\n",
    "                return self.model.get_sentence_embedding_dimension()\n",
    "        \n",
    "        # Создаем класс QdrantManager с правильной размерностью\n",
    "        class CustomQdrantManager:\n",
    "            def __init__(self):\n",
    "                self.collection_name = \"documents_\" + model_name.replace('/', '_').replace('-', '_')\n",
    "                self.client = None\n",
    "            \n",
    "            def initialize_collection(self, vector_size=None):\n",
    "                if vector_size is None:\n",
    "                    # Получаем размерность из нашего менеджера эмбеддингов\n",
    "                    custom_manager = CustomEmbeddingManager()\n",
    "                    vector_size = custom_manager.get_vector_size()\n",
    "                \n",
    "                self.client = QdrantClient(\":memory:\")\n",
    "                \n",
    "                # Создаем или пересоздаем коллекцию\n",
    "                try:\n",
    "                    self.client.get_collection(collection_name=self.collection_name)\n",
    "                    self.client.delete_collection(collection_name=self.collection_name)\n",
    "                except:\n",
    "                    pass\n",
    "                \n",
    "                self.client.create_collection(\n",
    "                    collection_name=self.collection_name,\n",
    "                    vectors_config=VectorParams(size=vector_size, distance=Distance.COSINE)\n",
    "                )\n",
    "            \n",
    "            def upsert_batch(self, start_id, embeddings, payloads):\n",
    "                points = []\n",
    "                for i in range(len(embeddings)):\n",
    "                    points.append(\n",
    "                        PointStruct(\n",
    "                            id=start_id + i,\n",
    "                            vector=embeddings[i].tolist(),\n",
    "                            payload=payloads[i]\n",
    "                        )\n",
    "                    )\n",
    "                \n",
    "                self.client.upsert(\n",
    "                    collection_name=self.collection_name,\n",
    "                    points=points\n",
    "                )\n",
    "            \n",
    "            def search(self, query_vector, limit=3):\n",
    "                results = self.client.search(\n",
    "                    collection_name=self.collection_name,\n",
    "                    query_vector=query_vector.tolist(),\n",
    "                    limit=limit\n",
    "                )\n",
    "                \n",
    "                hits = []\n",
    "                for res in results:\n",
    "                    hit = res.payload\n",
    "                    hit['score'] = res.score\n",
    "                    hits.append(hit)\n",
    "                \n",
    "                return hits\n",
    "        \n",
    "        # Создаем новый DenseRetriever с кастомной моделью и кастомным Qdrant менеджером\n",
    "        retriever = DenseRetriever(paragraphs)\n",
    "        retriever.embedding_model = model_name\n",
    "        retriever.embedding_manager = CustomEmbeddingManager()\n",
    "        retriever.qdrant_manager = CustomQdrantManager()\n",
    "        \n",
    "        # Оцениваем ретривер\n",
    "        model_results = evaluate_retriever(retriever, questions, n_questions=n_questions)\n",
    "        results[model_name] = model_results\n",
    "    \n",
    "    return results\n",
    "\n",
    "# Список моделей для тестирования\n",
    "embedding_models = [\n",
    "    'intfloat/multilingual-e5-large',       # текущая модель\n",
    "    'sentence-transformers/all-mpnet-base-v2',\n",
    "    'sentence-transformers/all-MiniLM-L6-v2',\n",
    "    'sentence-transformers/paraphrase-multilingual-mpnet-base-v2'\n",
    "]"
   ]
  },
  {
   "cell_type": "markdown",
   "metadata": {},
   "source": [
    "9. Оценка и выбор окончательного подхода\n",
    "\n",
    "Финальная оценка и выбор лучшего подхода:"
   ]
  },
  {
   "cell_type": "code",
   "execution_count": 21,
   "metadata": {},
   "outputs": [],
   "source": [
    "def evaluate_and_choose_best_approach():\n",
    "    \"\"\"Оценка всех подходов и выбор лучшего\"\"\"\n",
    "    print(\"Начинаем полную оценку всех подходов к ретривалу...\")\n",
    "    \n",
    "    # Загружаем данные\n",
    "    questions = load_questions()\n",
    "    paragraphs = load_articles()\n",
    "    \n",
    "    # Ограничиваем количество вопросов для ускорения экспериментов\n",
    "    n_questions_test = 10\n",
    "    test_questions = questions[:n_questions_test]\n",
    "    \n",
    "    # 1. Сравниваем разные типы ретриверов\n",
    "    print(\"\\n1. Сравнение различных типов ретриверов\")\n",
    "    retriever_results = run_full_comparison(test_questions, paragraphs, n_questions=n_questions_test)\n",
    "    \n",
    "    # 2. Сравниваем разные модели эмбеддингов для Dense ретривера\n",
    "    print(\"\\n2. Сравнение различных моделей эмбеддингов\")\n",
    "    embedding_results = compare_embedding_models(paragraphs, test_questions, embedding_models, n_questions=5)\n",
    "    \n",
    "    # 3. Тестируем гибридные подходы с разными весами\n",
    "    print(\"\\n3. Тестирование гибридных подходов с разными весами\")\n",
    "    hybrid_weights = [(0.7, 0.3), (0.5, 0.5), (0.3, 0.7), (0.8, 0.2)]\n",
    "    hybrid_results = {}\n",
    "    \n",
    "    for dense_weight, sparse_weight in hybrid_weights:\n",
    "        name = f\"Hybrid_{dense_weight}_{sparse_weight}\"\n",
    "        hybrid_retriever = HybridRetriever(paragraphs, dense_weight=dense_weight, sparse_weight=sparse_weight)\n",
    "        hybrid_results[name] = evaluate_retriever(hybrid_retriever, test_questions, n_questions=5)\n",
    "    \n",
    "    # 4. Тестируем разные реранкеры\n",
    "    print(\"\\n4. Тестирование различных реранкеров\")\n",
    "    reranker_models = [\n",
    "        \"cross-encoder/ms-marco-MiniLM-L-6-v2\",\n",
    "        \"cross-encoder/ms-marco-TinyBERT-L-2-v2\"\n",
    "    ]\n",
    "    reranker_results = {}\n",
    "    \n",
    "    for reranker_model in reranker_models:\n",
    "        name = f\"Reranker_{reranker_model.split('/')[-1]}\"\n",
    "        reranker = RerankerRetriever(paragraphs, \n",
    "                                    base_retriever=HybridRetriever(paragraphs),\n",
    "                                    reranker_model=reranker_model)\n",
    "        reranker_results[name] = evaluate_retriever(reranker, test_questions, n_questions=3)\n",
    "    \n",
    "    # Выводим сводку результатов\n",
    "    print(\"\\n=== Итоговая сводка результатов ===\")\n",
    "    print(\"Средняя скорость ретривала:\")\n",
    "    for retriever_name, results in retriever_results.items():\n",
    "        times = [r['retrieval_time'] for r in results]\n",
    "        avg_time = sum(times) / len(times)\n",
    "        print(f\"{retriever_name}: {avg_time:.4f} сек\")\n",
    "    \n",
    "    print(\"\\nДля ручной оценки качества результатов:\")\n",
    "    manual_review(retriever_results, question_indices=[0, 1, 2])\n",
    "    \n",
    "    # Выбираем лучший подход\n",
    "    print(\"\\nНа основе результатов выберите наиболее подходящий тип ретривера:\")\n",
    "    print(\"1. Dense Retriever - быстрый, хорошо находит семантически схожие тексты\")\n",
    "    print(\"2. BM25 Retriever - хорошо находит тексты с точными совпадениями ключевых слов\")\n",
    "    print(\"3. Hybrid Retriever - сочетает преимущества обоих подходов\")\n",
    "    print(\"4. Reranker Retriever - более точные результаты за счет дополнительного ранжирования\")\n",
    "    print(\"5. SPLADE Retriever - использует sparse лексические эмбеддинги (если доступен)\")\n",
    "    \n",
    "    best_approach = input(\"Выберите номер лучшего подхода (1-5): \")\n",
    "    \n",
    "    # Для демонстрации выберем Hybrid Retriever как рекомендуемый\n",
    "    # best_approach = \"3\"\n",
    "    print(f\"Выбран подход: Hybrid Retriever\")\n",
    "    \n",
    "    # Запускаем тестирование выбранного подхода на всех вопросах\n",
    "    retriever_type_map = {\n",
    "        \"1\": \"dense\",\n",
    "        \"2\": \"bm25\",\n",
    "        \"3\": \"hybrid\",\n",
    "        \"4\": \"reranker\",\n",
    "        \"5\": \"splade\"\n",
    "    }\n",
    "    \n",
    "    best_retriever_type = retriever_type_map.get(best_approach, \"hybrid\")\n",
    "    print(f\"\\nТестирование выбранного подхода ({best_retriever_type}) на всех вопросах...\")\n",
    "    final_results = test_best_retriever(best_retriever_type=best_retriever_type, n_questions=20)\n",
    "    \n",
    "    return {\n",
    "        'retriever_results': retriever_results,\n",
    "        'embedding_results': embedding_results,\n",
    "        'hybrid_results': hybrid_results,\n",
    "        'reranker_results': reranker_results,\n",
    "        'final_results': final_results,\n",
    "        'best_retriever_type': best_retriever_type\n",
    "    }"
   ]
  },
  {
   "cell_type": "markdown",
   "metadata": {},
   "source": [
    "10. Выполнение всего эксперимента и анализ результатов\n",
    "\n",
    "Наконец, запустим весь эксперимент и проанализируем результаты:"
   ]
  },
  {
   "cell_type": "code",
   "execution_count": null,
   "metadata": {},
   "outputs": [
    {
     "name": "stdout",
     "output_type": "stream",
     "text": [
      "Начинаем полную оценку всех подходов к ретривалу...\n",
      "Загружаем статьи...\n",
      "Загружено 292 параграфов из 12 статей\n",
      "\n",
      "1. Сравнение различных типов ретриверов\n",
      "SPLADE не будет использоваться из-за отсутствия необходимых зависимостей\n",
      "Подготовка эталонной разметки для 10 вопросов...\n",
      "Инициализация DenseRetriever с моделью intfloat/multilingual-e5-large...\n"
     ]
    },
    {
     "data": {
      "application/vnd.jupyter.widget-view+json": {
       "model_id": "a1426cb4e92246d5a8be7b4cf9fe816b",
       "version_major": 2,
       "version_minor": 0
      },
      "text/plain": [
       "Вычисление эмбеддингов:   0%|          | 0/3 [00:00<?, ?it/s]"
      ]
     },
     "metadata": {},
     "output_type": "display_data"
    },
    {
     "name": "stdout",
     "output_type": "stream",
     "text": [
      "DenseRetriever инициализирован\n"
     ]
    },
    {
     "data": {
      "application/vnd.jupyter.widget-view+json": {
       "model_id": "c3db951c7a4740648b9c89b78f896636",
       "version_major": 2,
       "version_minor": 0
      },
      "text/plain": [
       "Вычисление эмбеддингов:   0%|          | 0/3 [00:00<?, ?it/s]"
      ]
     },
     "metadata": {},
     "output_type": "display_data"
    },
    {
     "name": "stdout",
     "output_type": "stream",
     "text": [
      "DenseRetriever инициализирован\n",
      "Инициализация BM25Retriever...\n",
      "BM25Retriever инициализирован\n",
      "Инициализация HybridRetriever (dense_weight=0.7, sparse_weight=0.3)...\n",
      "Инициализация DenseRetriever с моделью intfloat/multilingual-e5-large...\n"
     ]
    },
    {
     "data": {
      "application/vnd.jupyter.widget-view+json": {
       "model_id": "aa4ad2145fd24a40be07406e2d88c6dc",
       "version_major": 2,
       "version_minor": 0
      },
      "text/plain": [
       "Вычисление эмбеддингов:   0%|          | 0/3 [00:00<?, ?it/s]"
      ]
     },
     "metadata": {},
     "output_type": "display_data"
    },
    {
     "name": "stdout",
     "output_type": "stream",
     "text": [
      "DenseRetriever инициализирован\n"
     ]
    },
    {
     "data": {
      "application/vnd.jupyter.widget-view+json": {
       "model_id": "2dc0825091b049188b24bddec9131d57",
       "version_major": 2,
       "version_minor": 0
      },
      "text/plain": [
       "Вычисление эмбеддингов:   0%|          | 0/3 [00:00<?, ?it/s]"
      ]
     },
     "metadata": {},
     "output_type": "display_data"
    },
    {
     "name": "stdout",
     "output_type": "stream",
     "text": [
      "DenseRetriever инициализирован\n",
      "Инициализация BM25Retriever...\n",
      "BM25Retriever инициализирован\n",
      "HybridRetriever инициализирован\n"
     ]
    },
    {
     "data": {
      "application/vnd.jupyter.widget-view+json": {
       "model_id": "186c8b3ce1d040728522ee7bbd402d4c",
       "version_major": 2,
       "version_minor": 0
      },
      "text/plain": [
       "  0%|          | 0/10 [00:00<?, ?it/s]"
      ]
     },
     "metadata": {},
     "output_type": "display_data"
    },
    {
     "name": "stdout",
     "output_type": "stream",
     "text": [
      "Создана эталонная разметка для 10 вопросов\n",
      "Инициализация DenseRetriever с моделью intfloat/multilingual-e5-large...\n"
     ]
    },
    {
     "data": {
      "application/vnd.jupyter.widget-view+json": {
       "model_id": "36af32c2eded4f1ba8b8236d004bc33a",
       "version_major": 2,
       "version_minor": 0
      },
      "text/plain": [
       "Вычисление эмбеддингов:   0%|          | 0/3 [00:00<?, ?it/s]"
      ]
     },
     "metadata": {},
     "output_type": "display_data"
    },
    {
     "name": "stdout",
     "output_type": "stream",
     "text": [
      "DenseRetriever инициализирован\n"
     ]
    },
    {
     "data": {
      "application/vnd.jupyter.widget-view+json": {
       "model_id": "5ecc06462f394cdf809484fe7714b7cd",
       "version_major": 2,
       "version_minor": 0
      },
      "text/plain": [
       "Вычисление эмбеддингов:   0%|          | 0/3 [00:00<?, ?it/s]"
      ]
     },
     "metadata": {},
     "output_type": "display_data"
    },
    {
     "name": "stdout",
     "output_type": "stream",
     "text": [
      "DenseRetriever инициализирован\n",
      "Оценка Dense Retriever (multilingual-e5-large) на 10 вопросах...\n"
     ]
    },
    {
     "data": {
      "application/vnd.jupyter.widget-view+json": {
       "model_id": "fdf98d7c402548099fecf068bbb34484",
       "version_major": 2,
       "version_minor": 0
      },
      "text/plain": [
       "  0%|          | 0/10 [00:00<?, ?it/s]"
      ]
     },
     "metadata": {},
     "output_type": "display_data"
    },
    {
     "name": "stdout",
     "output_type": "stream",
     "text": [
      "Средняя скорость ретривала: 0.0843 сек\n",
      "Средний Precision@3: 1.0000\n",
      "Средний Recall@3: 0.3036\n",
      "Средний NDCG@3: 1.0000\n",
      "Инициализация BM25Retriever...\n",
      "BM25Retriever инициализирован\n",
      "Оценка BM25 Retriever на 10 вопросах...\n"
     ]
    },
    {
     "data": {
      "application/vnd.jupyter.widget-view+json": {
       "model_id": "9e3fea8bdb264288a43988c829f3a48f",
       "version_major": 2,
       "version_minor": 0
      },
      "text/plain": [
       "  0%|          | 0/10 [00:00<?, ?it/s]"
      ]
     },
     "metadata": {},
     "output_type": "display_data"
    },
    {
     "name": "stdout",
     "output_type": "stream",
     "text": [
      "Средняя скорость ретривала: 0.0011 сек\n",
      "Средний Precision@3: 1.0000\n",
      "Средний Recall@3: 0.3036\n",
      "Средний NDCG@3: 1.0000\n",
      "Инициализация HybridRetriever (dense_weight=0.7, sparse_weight=0.3)...\n",
      "Инициализация DenseRetriever с моделью intfloat/multilingual-e5-large...\n"
     ]
    },
    {
     "data": {
      "application/vnd.jupyter.widget-view+json": {
       "model_id": "aecec2e580ac45daa684305471133568",
       "version_major": 2,
       "version_minor": 0
      },
      "text/plain": [
       "Вычисление эмбеддингов:   0%|          | 0/3 [00:00<?, ?it/s]"
      ]
     },
     "metadata": {},
     "output_type": "display_data"
    },
    {
     "name": "stdout",
     "output_type": "stream",
     "text": [
      "DenseRetriever инициализирован\n"
     ]
    },
    {
     "data": {
      "application/vnd.jupyter.widget-view+json": {
       "model_id": "616d67297aa844bea50b206299ece628",
       "version_major": 2,
       "version_minor": 0
      },
      "text/plain": [
       "Вычисление эмбеддингов:   0%|          | 0/3 [00:00<?, ?it/s]"
      ]
     },
     "metadata": {},
     "output_type": "display_data"
    },
    {
     "name": "stdout",
     "output_type": "stream",
     "text": [
      "DenseRetriever инициализирован\n",
      "Инициализация BM25Retriever...\n",
      "BM25Retriever инициализирован\n",
      "HybridRetriever инициализирован\n",
      "Оценка Hybrid Retriever (dense=0.7, sparse=0.3) на 10 вопросах...\n"
     ]
    },
    {
     "data": {
      "application/vnd.jupyter.widget-view+json": {
       "model_id": "c038f101b5974d47b122744a1b911ff7",
       "version_major": 2,
       "version_minor": 0
      },
      "text/plain": [
       "  0%|          | 0/10 [00:00<?, ?it/s]"
      ]
     },
     "metadata": {},
     "output_type": "display_data"
    },
    {
     "name": "stdout",
     "output_type": "stream",
     "text": [
      "Средняя скорость ретривала: 0.0902 сек\n",
      "Средний Precision@3: 1.0000\n",
      "Средний Recall@3: 0.3036\n",
      "Средний NDCG@3: 1.0000\n",
      "Инициализация HybridRetriever (dense_weight=0.5, sparse_weight=0.5)...\n",
      "Инициализация DenseRetriever с моделью intfloat/multilingual-e5-large...\n"
     ]
    },
    {
     "data": {
      "application/vnd.jupyter.widget-view+json": {
       "model_id": "54cc58fa62bb41e0b0abb93273c9a90a",
       "version_major": 2,
       "version_minor": 0
      },
      "text/plain": [
       "Вычисление эмбеддингов:   0%|          | 0/3 [00:00<?, ?it/s]"
      ]
     },
     "metadata": {},
     "output_type": "display_data"
    },
    {
     "name": "stdout",
     "output_type": "stream",
     "text": [
      "DenseRetriever инициализирован\n"
     ]
    },
    {
     "data": {
      "application/vnd.jupyter.widget-view+json": {
       "model_id": "75450b2b069049b3a56e1bf7108250d0",
       "version_major": 2,
       "version_minor": 0
      },
      "text/plain": [
       "Вычисление эмбеддингов:   0%|          | 0/3 [00:00<?, ?it/s]"
      ]
     },
     "metadata": {},
     "output_type": "display_data"
    },
    {
     "name": "stdout",
     "output_type": "stream",
     "text": [
      "DenseRetriever инициализирован\n",
      "Инициализация BM25Retriever...\n",
      "BM25Retriever инициализирован\n",
      "HybridRetriever инициализирован\n",
      "Оценка Hybrid Retriever (dense=0.5, sparse=0.5) на 10 вопросах...\n"
     ]
    },
    {
     "data": {
      "application/vnd.jupyter.widget-view+json": {
       "model_id": "94b8b76cecd24f4d961f01803a19aa6d",
       "version_major": 2,
       "version_minor": 0
      },
      "text/plain": [
       "  0%|          | 0/10 [00:00<?, ?it/s]"
      ]
     },
     "metadata": {},
     "output_type": "display_data"
    },
    {
     "name": "stdout",
     "output_type": "stream",
     "text": [
      "Средняя скорость ретривала: 0.0772 сек\n",
      "Средний Precision@3: 1.0000\n",
      "Средний Recall@3: 0.3036\n",
      "Средний NDCG@3: 1.0000\n",
      "Инициализация RerankerRetriever с моделью cross-encoder/ms-marco-MiniLM-L-6-v2...\n",
      "Инициализация DenseRetriever с моделью intfloat/multilingual-e5-large...\n"
     ]
    },
    {
     "data": {
      "application/vnd.jupyter.widget-view+json": {
       "model_id": "1470a43fb30643108298e5e0c077891c",
       "version_major": 2,
       "version_minor": 0
      },
      "text/plain": [
       "Вычисление эмбеддингов:   0%|          | 0/3 [00:00<?, ?it/s]"
      ]
     },
     "metadata": {},
     "output_type": "display_data"
    },
    {
     "name": "stdout",
     "output_type": "stream",
     "text": [
      "DenseRetriever инициализирован\n"
     ]
    },
    {
     "data": {
      "application/vnd.jupyter.widget-view+json": {
       "model_id": "2fe7cec355184b4181e1ffad3c846ddc",
       "version_major": 2,
       "version_minor": 0
      },
      "text/plain": [
       "Вычисление эмбеддингов:   0%|          | 0/3 [00:00<?, ?it/s]"
      ]
     },
     "metadata": {},
     "output_type": "display_data"
    },
    {
     "name": "stdout",
     "output_type": "stream",
     "text": [
      "DenseRetriever инициализирован\n",
      "Модель реранкера загружена\n",
      "RerankerRetriever инициализирован\n",
      "Оценка Reranker (Dense Retriever (multilingual-e5-large) + ms-marco-MiniLM-L-6-v2) на 10 вопросах...\n"
     ]
    },
    {
     "data": {
      "application/vnd.jupyter.widget-view+json": {
       "model_id": "246550b8b89646f2b569914f38fbf0cc",
       "version_major": 2,
       "version_minor": 0
      },
      "text/plain": [
       "  0%|          | 0/10 [00:00<?, ?it/s]"
      ]
     },
     "metadata": {},
     "output_type": "display_data"
    },
    {
     "name": "stdout",
     "output_type": "stream",
     "text": [
      "Средняя скорость ретривала: 0.3657 сек\n",
      "Средний Precision@3: 0.8667\n",
      "Средний Recall@3: 0.2640\n",
      "Средний NDCG@3: 0.9815\n"
     ]
    },
    {
     "data": {
      "image/png": "[encoded data removed]",
      "text/plain": [
       "<Figure size 1600x1200 with 4 Axes>"
      ]
     },
     "metadata": {},
     "output_type": "display_data"
    },
    {
     "name": "stdout",
     "output_type": "stream",
     "text": [
      "\n",
      "Таблица метрик:\n"
     ]
    },
    {
     "data": {
      "text/html": [
       "<div>\n",
       "<style scoped>\n",
       "    .dataframe tbody tr th:only-of-type {\n",
       "        vertical-align: middle;\n",
       "    }\n",
       "\n",
       "    .dataframe tbody tr th {\n",
       "        vertical-align: top;\n",
       "    }\n",
       "\n",
       "    .dataframe thead th {\n",
       "        text-align: right;\n",
       "    }\n",
       "</style>\n",
       "<table border=\"1\" class=\"dataframe\">\n",
       "  <thead>\n",
       "    <tr style=\"text-align: right;\">\n",
       "      <th></th>\n",
       "      <th>avg_time</th>\n",
       "      <th>max_time</th>\n",
       "      <th>min_time</th>\n",
       "      <th>avg_precision</th>\n",
       "      <th>avg_recall</th>\n",
       "      <th>avg_ndcg</th>\n",
       "    </tr>\n",
       "  </thead>\n",
       "  <tbody>\n",
       "    <tr>\n",
       "      <th>Dense Retriever (multilingual-e5-large)</th>\n",
       "      <td>0.084270</td>\n",
       "      <td>0.103056</td>\n",
       "      <td>0.069240</td>\n",
       "      <td>1.000000</td>\n",
       "      <td>0.303615</td>\n",
       "      <td>1.000000</td>\n",
       "    </tr>\n",
       "    <tr>\n",
       "      <th>BM25 Retriever</th>\n",
       "      <td>0.001055</td>\n",
       "      <td>0.002000</td>\n",
       "      <td>0.000000</td>\n",
       "      <td>1.000000</td>\n",
       "      <td>0.303615</td>\n",
       "      <td>1.000000</td>\n",
       "    </tr>\n",
       "    <tr>\n",
       "      <th>Hybrid Retriever (dense=0.7, sparse=0.3)</th>\n",
       "      <td>0.090248</td>\n",
       "      <td>0.108262</td>\n",
       "      <td>0.083236</td>\n",
       "      <td>1.000000</td>\n",
       "      <td>0.303615</td>\n",
       "      <td>1.000000</td>\n",
       "    </tr>\n",
       "    <tr>\n",
       "      <th>Hybrid Retriever (dense=0.5, sparse=0.5)</th>\n",
       "      <td>0.077174</td>\n",
       "      <td>0.091210</td>\n",
       "      <td>0.065153</td>\n",
       "      <td>1.000000</td>\n",
       "      <td>0.303615</td>\n",
       "      <td>1.000000</td>\n",
       "    </tr>\n",
       "    <tr>\n",
       "      <th>Reranker (Dense Retriever (multilingual-e5-large) + ms-marco-MiniLM-L-6-v2)</th>\n",
       "      <td>0.365726</td>\n",
       "      <td>0.480243</td>\n",
       "      <td>0.212795</td>\n",
       "      <td>0.866667</td>\n",
       "      <td>0.263968</td>\n",
       "      <td>0.981546</td>\n",
       "    </tr>\n",
       "  </tbody>\n",
       "</table>\n",
       "</div>"
      ],
      "text/plain": [
       "                                                    avg_time  max_time  \\\n",
       "Dense Retriever (multilingual-e5-large)             0.084270  0.103056   \n",
       "BM25 Retriever                                      0.001055  0.002000   \n",
       "Hybrid Retriever (dense=0.7, sparse=0.3)            0.090248  0.108262   \n",
       "Hybrid Retriever (dense=0.5, sparse=0.5)            0.077174  0.091210   \n",
       "Reranker (Dense Retriever (multilingual-e5-larg...  0.365726  0.480243   \n",
       "\n",
       "                                                    min_time  avg_precision  \\\n",
       "Dense Retriever (multilingual-e5-large)             0.069240       1.000000   \n",
       "BM25 Retriever                                      0.000000       1.000000   \n",
       "Hybrid Retriever (dense=0.7, sparse=0.3)            0.083236       1.000000   \n",
       "Hybrid Retriever (dense=0.5, sparse=0.5)            0.065153       1.000000   \n",
       "Reranker (Dense Retriever (multilingual-e5-larg...  0.212795       0.866667   \n",
       "\n",
       "                                                    avg_recall  avg_ndcg  \n",
       "Dense Retriever (multilingual-e5-large)               0.303615  1.000000  \n",
       "BM25 Retriever                                        0.303615  1.000000  \n",
       "Hybrid Retriever (dense=0.7, sparse=0.3)              0.303615  1.000000  \n",
       "Hybrid Retriever (dense=0.5, sparse=0.5)              0.303615  1.000000  \n",
       "Reranker (Dense Retriever (multilingual-e5-larg...    0.263968  0.981546  "
      ]
     },
     "metadata": {},
     "output_type": "display_data"
    },
    {
     "name": "stdout",
     "output_type": "stream",
     "text": [
      "\n",
      "\n",
      "Пример #1\n",
      "Вопрос: What is a collection in the context of Qdrant?\n",
      "\n",
      "Dense Retriever (multilingual-e5-large):\n",
      "  1. [collections] (score: 0.8684): title: Collections weight: 30 aliases: - ../collections - /concepts/collections/ - /documentation/frameworks/fondant/documentation/concepts/collection...\n",
      "  2. [points] (score: 0.8511): } python client.scroll( collection_name=\"{collection_name}\", limit=15, order_by=\"timestamp\", # <-- this! ) typescript client.scroll(\"{collection_name}...\n",
      "  3. [collections] (score: 0.8494): ) client, err := qdrant.NewClient(&qdrant.Config{ Host: \"localhost\", Port: 6334, }) client.CreateCollection(context.Background(), &qdrant.CreateCollec...\n",
      "  Precision: 1.0000, Recall: 0.2727, NDCG: 1.0000\n",
      "\n",
      "BM25 Retriever:\n",
      "  1. [explore] (score: 13.2903): Context is a set of positive-negative pairs, and each pair divides the space into positive and negative zones. In that mode, the search operation pref...\n",
      "  2. [explore] (score: 12.0913): * When providing ids as examples, they will be excluded from the results. * Score is always in descending order (larger is better), regardless of the ...\n",
      "  3. [search] (score: 11.4873): // Options for specifying what to bring from the payload // of the looked up point, true by default \"with_payload\": [\"title\", \"text\"],\n",
      "\n",
      "// Options for...\n",
      "  Precision: 1.0000, Recall: 0.2727, NDCG: 1.0000\n",
      "\n",
      "Hybrid Retriever (dense=0.7, sparse=0.3):\n",
      "  1. [collections] (score: 0.6079): title: Collections weight: 30 aliases: - ../collections - /concepts/collections/ - /documentation/frameworks/fondant/documentation/concepts/collection...\n",
      "  2. [points] (score: 0.5957): } python client.scroll( collection_name=\"{collection_name}\", limit=15, order_by=\"timestamp\", # <-- this! ) typescript client.scroll(\"{collection_name}...\n",
      "  3. [collections] (score: 0.5913): ) client, err := qdrant.NewClient(&qdrant.Config{ Host: \"localhost\", Port: 6334, }) client.UpdateCollection(context.Background(), &qdrant.UpdateCollec...\n",
      "  Precision: 1.0000, Recall: 0.2727, NDCG: 1.0000\n",
      "\n",
      "Hybrid Retriever (dense=0.5, sparse=0.5):\n",
      "  1. [explore] (score: 0.5000): Context is a set of positive-negative pairs, and each pair divides the space into positive and negative zones. In that mode, the search operation pref...\n",
      "  2. [explore] (score: 0.4549): * When providing ids as examples, they will be excluded from the results. * Score is always in descending order (larger is better), regardless of the ...\n",
      "  3. [collections] (score: 0.4342): title: Collections weight: 30 aliases: - ../collections - /concepts/collections/ - /documentation/frameworks/fondant/documentation/concepts/collection...\n",
      "  Precision: 1.0000, Recall: 0.2727, NDCG: 1.0000\n",
      "\n",
      "Reranker (Dense Retriever (multilingual-e5-large) + ms-marco-MiniLM-L-6-v2):\n",
      "  1. [collections] (score: 5.2249): ) client, err := qdrant.NewClient(&qdrant.Config{ Host: \"localhost\", Port: 6334, }) client.CreateCollection(context.Background(), &qdrant.CreateCollec...\n",
      "  2. [collections] (score: 4.5543): ) client, err := qdrant.NewClient(&qdrant.Config{ Host: \"localhost\", Port: 6334, }) client.UpdateCollection(context.Background(), &qdrant.UpdateCollec...\n",
      "  3. [indexing] (score: 4.1420): ) client, err := qdrant.NewClient(&qdrant.Config{ Host: \"localhost\", Port: 6334, }) client.CreateCollection(context.Background(), &qdrant.CreateCollec...\n",
      "  Precision: 1.0000, Recall: 0.2727, NDCG: 1.0000\n",
      "\n",
      "\n",
      "Пример #2\n",
      "Вопрос: What must be true about the dimensionality of vectors within a single collection?\n",
      "\n",
      "Dense Retriever (multilingual-e5-large):\n",
      "  1. [collections] (score: 0.8259): title: Collections weight: 30 aliases: - ../collections - /concepts/collections/ - /documentation/frameworks/fondant/documentation/concepts/collection...\n",
      "  2. [storage] (score: 0.8220): Set up on_disk option for the vectors in the collection create API:\n",
      "  3. [collections] (score: 0.8204): ) client, err := qdrant.NewClient(&qdrant.Config{ Host: \"localhost\", Port: 6334, }) client.CreateCollection(context.Background(), &qdrant.CreateCollec...\n",
      "  Precision: 1.0000, Recall: 0.2500, NDCG: 1.0000\n",
      "\n",
      "BM25 Retriever:\n",
      "  1. [collections] (score: 24.3132): title: Collections weight: 30 aliases: - ../collections - /concepts/collections/ - /documentation/frameworks/fondant/documentation/concepts/collection...\n",
      "  2. [collections] (score: 17.3180): ) client, err := qdrant.NewClient(&qdrant.Config{ Host: \"localhost\", Port: 6334, }) client.CreateCollection(context.Background(), &qdrant.CreateCollec...\n",
      "  3. [filtering] (score: 16.3048): ) client, err := qdrant.NewClient(&qdrant.Config{ Host: \"localhost\", Port: 6334, }) client.Scroll(context.Background(), &qdrant.ScrollPoints{ Collecti...\n",
      "  Precision: 1.0000, Recall: 0.2500, NDCG: 1.0000\n",
      "\n",
      "Hybrid Retriever (dense=0.7, sparse=0.3):\n",
      "  1. [collections] (score: 0.8781): title: Collections weight: 30 aliases: - ../collections - /concepts/collections/ - /documentation/frameworks/fondant/documentation/concepts/collection...\n",
      "  2. [indexing] (score: 0.7861): ) client, err := qdrant.NewClient(&qdrant.Config{ Host: \"localhost\", Port: 6334, }) client.CreateCollection(context.Background(), &qdrant.CreateCollec...\n",
      "  3. [storage] (score: 0.5754): Set up on_disk option for the vectors in the collection create API:\n",
      "  Precision: 1.0000, Recall: 0.2500, NDCG: 1.0000\n",
      "\n",
      "Hybrid Retriever (dense=0.5, sparse=0.5):\n",
      "  1. [collections] (score: 0.9129): title: Collections weight: 30 aliases: - ../collections - /concepts/collections/ - /documentation/frameworks/fondant/documentation/concepts/collection...\n",
      "  2. [indexing] (score: 0.7650): ) client, err := qdrant.NewClient(&qdrant.Config{ Host: \"localhost\", Port: 6334, }) client.CreateCollection(context.Background(), &qdrant.CreateCollec...\n",
      "  3. [storage] (score: 0.4110): Set up on_disk option for the vectors in the collection create API:\n",
      "  Precision: 1.0000, Recall: 0.2500, NDCG: 1.0000\n",
      "\n",
      "Reranker (Dense Retriever (multilingual-e5-large) + ms-marco-MiniLM-L-6-v2):\n",
      "  1. [collections] (score: 4.7424): title: Collections weight: 30 aliases: - ../collections - /concepts/collections/ - /documentation/frameworks/fondant/documentation/concepts/collection...\n",
      "  2. [collections] (score: 0.5696): If your collection is very small or the dimensionality of the vectors is low, there might be no HNSW segment created and indexed_vectors_count might b...\n",
      "  3. [collections] (score: -0.8957): For search efficiency, Cosine similarity is implemented as dot-product over normalized vectors. Vectors are automatically normalized during upload In ...\n",
      "  Precision: 0.6667, Recall: 0.1667, NDCG: 1.0000\n",
      "\n",
      "\n",
      "Пример #3\n",
      "Вопрос: How does Qdrant support different metrics for comparing vectors?\n",
      "\n",
      "Dense Retriever (multilingual-e5-large):\n",
      "  1. [search] (score: 0.8782): Qdrant counts this metric in 2 steps, due to which a higher search speed is achieved. The first step is to normalize the vector when adding it to the ...\n",
      "  2. [search] (score: 0.8745): ) client, err := qdrant.NewClient(&qdrant.Config{ Host: \"localhost\", Port: 6334, }) client.Query(context.Background(), &qdrant.QueryPoints{ Collection...\n",
      "  3. [explore] (score: 0.8678): Explore the data After mastering the concepts in search, you can start exploring your data in other ways. Qdrant provides a stack of APIs that allow y...\n",
      "  Precision: 1.0000, Recall: 0.2727, NDCG: 1.0000\n",
      "\n",
      "BM25 Retriever:\n",
      "  1. [indexing] (score: 11.9077): Unlike a dense vector index, a sparse vector index does not require a pre-defined vector size. It automatically adjusts to the size of the vectors add...\n",
      "  2. [explore] (score: 8.6540): Context is a set of positive-negative pairs, and each pair divides the space into positive and negative zones. In that mode, the search operation pref...\n",
      "  3. [collections] (score: 8.4461): The above counts are not exact, but should be considered approximate. Depending on how you use Qdrant these may give very different numbers than what ...\n",
      "  Precision: 1.0000, Recall: 0.2727, NDCG: 1.0000\n",
      "\n",
      "Hybrid Retriever (dense=0.7, sparse=0.3):\n",
      "  1. [explore] (score: 0.8244): Context is a set of positive-negative pairs, and each pair divides the space into positive and negative zones. In that mode, the search operation pref...\n",
      "  2. [collections] (score: 0.8202): The above counts are not exact, but should be considered approximate. Depending on how you use Qdrant these may give very different numbers than what ...\n",
      "  3. [search] (score: 0.6148): Qdrant counts this metric in 2 steps, due to which a higher search speed is achieved. The first step is to normalize the vector when adding it to the ...\n",
      "  Precision: 1.0000, Recall: 0.2727, NDCG: 1.0000\n",
      "\n",
      "Hybrid Retriever (dense=0.5, sparse=0.5):\n",
      "  1. [explore] (score: 0.7965): Context is a set of positive-negative pairs, and each pair divides the space into positive and negative zones. In that mode, the search operation pref...\n",
      "  2. [collections] (score: 0.7885): The above counts are not exact, but should be considered approximate. Depending on how you use Qdrant these may give very different numbers than what ...\n",
      "  3. [indexing] (score: 0.5000): Unlike a dense vector index, a sparse vector index does not require a pre-defined vector size. It automatically adjusts to the size of the vectors add...\n",
      "  Precision: 1.0000, Recall: 0.2727, NDCG: 1.0000\n",
      "\n",
      "Reranker (Dense Retriever (multilingual-e5-large) + ms-marco-MiniLM-L-6-v2):\n",
      "  1. [search] (score: 6.7302): Qdrant counts this metric in 2 steps, due to which a higher search speed is achieved. The first step is to normalize the vector when adding it to the ...\n",
      "  2. [search] (score: 4.2386): ) client, err := qdrant.NewClient(&qdrant.Config{ Host: \"localhost\", Port: 6334, }) client.Query(context.Background(), &qdrant.QueryPoints{ Collection...\n",
      "  3. [explore] (score: 3.4081): Explore the data After mastering the concepts in search, you can start exploring your data in other ways. Qdrant provides a stack of APIs that allow y...\n",
      "  Precision: 1.0000, Recall: 0.2727, NDCG: 1.0000\n",
      "\n",
      "\n",
      "Пример #4\n",
      "Вопрос: When should multiple collections be created instead of just one?\n",
      "\n",
      "Dense Retriever (multilingual-e5-large):\n",
      "  1. [collections] (score: 0.8485): For search efficiency, Cosine similarity is implemented as dot-product over normalized vectors. Vectors are automatically normalized during upload In ...\n",
      "  2. [collections] (score: 0.8442): ) client, err := qdrant.NewClient(&qdrant.Config{ Host: \"localhost\", Port: 6334, }) client.CreateCollection(context.Background(), &qdrant.CreateCollec...\n",
      "  3. [collections] (score: 0.8241): If your collection is very small or the dimensionality of the vectors is low, there might be no HNSW segment created and indexed_vectors_count might b...\n",
      "  Precision: 1.0000, Recall: 0.4286, NDCG: 1.0000\n",
      "\n",
      "BM25 Retriever:\n",
      "  1. [collections] (score: 16.1339): For search efficiency, Cosine similarity is implemented as dot-product over normalized vectors. Vectors are automatically normalized during upload In ...\n",
      "  2. [collections] (score: 11.9830): If your collection is very small or the dimensionality of the vectors is low, there might be no HNSW segment created and indexed_vectors_count might b...\n",
      "  3. [collections] (score: 11.2321): ) client, err := qdrant.NewClient(&qdrant.Config{ Host: \"localhost\", Port: 6334, }) client.CreateCollection(context.Background(), &qdrant.CreateCollec...\n",
      "  Precision: 1.0000, Recall: 0.4286, NDCG: 1.0000\n",
      "\n",
      "Hybrid Retriever (dense=0.7, sparse=0.3):\n",
      "  1. [collections] (score: 0.8940): For search efficiency, Cosine similarity is implemented as dot-product over normalized vectors. Vectors are automatically normalized during upload In ...\n",
      "  2. [collections] (score: 0.7997): If your collection is very small or the dimensionality of the vectors is low, there might be no HNSW segment created and indexed_vectors_count might b...\n",
      "  3. [storage] (score: 0.7783): ) client, err := qdrant.NewClient(&qdrant.Config{ Host: \"localhost\", Port: 6334, }) client.CreateCollection(context.Background(), &qdrant.CreateCollec...\n",
      "  Precision: 1.0000, Recall: 0.4286, NDCG: 1.0000\n",
      "\n",
      "Hybrid Retriever (dense=0.5, sparse=0.5):\n",
      "  1. [collections] (score: 0.9243): For search efficiency, Cosine similarity is implemented as dot-product over normalized vectors. Vectors are automatically normalized during upload In ...\n",
      "  2. [collections] (score: 0.7834): If your collection is very small or the dimensionality of the vectors is low, there might be no HNSW segment created and indexed_vectors_count might b...\n",
      "  3. [storage] (score: 0.7549): ) client, err := qdrant.NewClient(&qdrant.Config{ Host: \"localhost\", Port: 6334, }) client.CreateCollection(context.Background(), &qdrant.CreateCollec...\n",
      "  Precision: 1.0000, Recall: 0.4286, NDCG: 1.0000\n",
      "\n",
      "Reranker (Dense Retriever (multilingual-e5-large) + ms-marco-MiniLM-L-6-v2):\n",
      "  1. [collections] (score: 3.9075): For search efficiency, Cosine similarity is implemented as dot-product over normalized vectors. Vectors are automatically normalized during upload In ...\n",
      "  2. [explore] (score: 0.4577): Multiple vectors Available as of v0.10.0 If the collection was created with multiple vectors, the name of the vector should be specified in the recomm...\n",
      "  3. [collections] (score: -1.4656): ) client, err := qdrant.NewClient(&qdrant.Config{ Host: \"localhost\", Port: 6334, }) client.CreateCollection(context.Background(), &qdrant.CreateCollec...\n",
      "  Precision: 1.0000, Recall: 0.4286, NDCG: 1.0000\n",
      "\n",
      "\n",
      "Пример #5\n",
      "Вопрос: What are some parameters that can be tuned for a collection?\n",
      "\n",
      "Dense Retriever (multilingual-e5-large):\n",
      "  1. [optimizer] (score: 0.8553): ``` In addition to the configuration file, you can also set optimizer parameters separately for each collection. Dynamic parameter updates may be usef...\n",
      "  2. [collections] (score: 0.8498): ) client, err := qdrant.NewClient(&qdrant.Config{ Host: \"localhost\", Port: 6334, }) client.UpdateCollection(context.Background(), &qdrant.UpdateCollec...\n",
      "  3. [collections] (score: 0.8476): Default parameters for the optional collection parameters are defined in configuration file. See schema definitions and a configuration file for more ...\n",
      "  Precision: 1.0000, Recall: 0.2727, NDCG: 1.0000\n",
      "\n",
      "BM25 Retriever:\n",
      "  1. [collections] (score: 8.8906): The above counts are not exact, but should be considered approximate. Depending on how you use Qdrant these may give very different numbers than what ...\n",
      "  2. [indexing] (score: 8.6613): # Larger the value - more accurate the search, more time required to build index. ef_construct: 100 # Minimal size (in KiloBytes) of vectors for addit...\n",
      "  3. [indexing] (score: 7.5723): Payload index may occupy some additional memory, so it is recommended to only use index for those fields that are used in filtering conditions. If you...\n",
      "  Precision: 1.0000, Recall: 0.2727, NDCG: 1.0000\n",
      "\n",
      "Hybrid Retriever (dense=0.7, sparse=0.3):\n",
      "  1. [collections] (score: 0.8356): ) client, err := qdrant.NewClient(&qdrant.Config{ Host: \"localhost\", Port: 6334, }) client.CreateCollection(context.Background(), &qdrant.CreateCollec...\n",
      "  2. [optimizer] (score: 0.5987): ``` In addition to the configuration file, you can also set optimizer parameters separately for each collection. Dynamic parameter updates may be usef...\n",
      "  3. [collections] (score: 0.5948): ) client, err := qdrant.NewClient(&qdrant.Config{ Host: \"localhost\", Port: 6334, }) client.UpdateCollection(context.Background(), &qdrant.UpdateCollec...\n",
      "  Precision: 1.0000, Recall: 0.2727, NDCG: 1.0000\n",
      "\n",
      "Hybrid Retriever (dense=0.5, sparse=0.5):\n",
      "  1. [collections] (score: 0.8351): ) client, err := qdrant.NewClient(&qdrant.Config{ Host: \"localhost\", Port: 6334, }) client.CreateCollection(context.Background(), &qdrant.CreateCollec...\n",
      "  2. [collections] (score: 0.5000): The above counts are not exact, but should be considered approximate. Depending on how you use Qdrant these may give very different numbers than what ...\n",
      "  3. [indexing] (score: 0.4871): # Larger the value - more accurate the search, more time required to build index. ef_construct: 100 # Minimal size (in KiloBytes) of vectors for addit...\n",
      "  Precision: 1.0000, Recall: 0.2727, NDCG: 1.0000\n",
      "\n",
      "Reranker (Dense Retriever (multilingual-e5-large) + ms-marco-MiniLM-L-6-v2):\n",
      "  1. [optimizer] (score: 3.8769): ``` In addition to the configuration file, you can also set optimizer parameters separately for each collection. Dynamic parameter updates may be usef...\n",
      "  2. [collections] (score: 3.2780): Default parameters for the optional collection parameters are defined in configuration file. See schema definitions and a configuration file for more ...\n",
      "  3. [storage] (score: 1.6415): There are two ways to do this:\n",
      "\n",
      "You can set the threshold globally in the configuration file. The parameter is called memmap_threshold (previously mem...\n",
      "  Precision: 1.0000, Recall: 0.2727, NDCG: 1.0000\n",
      "\n",
      "2. Сравнение различных моделей эмбеддингов\n",
      "\n",
      "Тестирование модели: intfloat/multilingual-e5-large\n",
      "Инициализация DenseRetriever с моделью intfloat/multilingual-e5-large...\n"
     ]
    },
    {
     "data": {
      "application/vnd.jupyter.widget-view+json": {
       "model_id": "04d2fdb2cf48412e93705e534fcb4fd1",
       "version_major": 2,
       "version_minor": 0
      },
      "text/plain": [
       "Вычисление эмбеддингов:   0%|          | 0/3 [00:00<?, ?it/s]"
      ]
     },
     "metadata": {},
     "output_type": "display_data"
    },
    {
     "name": "stdout",
     "output_type": "stream",
     "text": [
      "DenseRetriever инициализирован\n"
     ]
    },
    {
     "data": {
      "application/vnd.jupyter.widget-view+json": {
       "model_id": "23a82129d9fe4057814f202a6157b92a",
       "version_major": 2,
       "version_minor": 0
      },
      "text/plain": [
       "Вычисление эмбеддингов:   0%|          | 0/3 [00:00<?, ?it/s]"
      ]
     },
     "metadata": {},
     "output_type": "display_data"
    },
    {
     "name": "stdout",
     "output_type": "stream",
     "text": [
      "DenseRetriever инициализирован\n",
      "Оценка Dense Retriever (multilingual-e5-large) на 5 вопросах...\n"
     ]
    },
    {
     "data": {
      "application/vnd.jupyter.widget-view+json": {
       "model_id": "b7da817af7e548cb9ccd53c1af81b97e",
       "version_major": 2,
       "version_minor": 0
      },
      "text/plain": [
       "  0%|          | 0/5 [00:00<?, ?it/s]"
      ]
     },
     "metadata": {},
     "output_type": "display_data"
    },
    {
     "name": "stdout",
     "output_type": "stream",
     "text": [
      "Средняя скорость ретривала: 0.0859 сек\n",
      "\n",
      "Тестирование модели: sentence-transformers/all-mpnet-base-v2\n",
      "Инициализация DenseRetriever с моделью sentence-transformers/all-mpnet-base-v2...\n"
     ]
    },
    {
     "data": {
      "application/vnd.jupyter.widget-view+json": {
       "model_id": "8cc92e21c7bd4690b0b378288369085f",
       "version_major": 2,
       "version_minor": 0
      },
      "text/plain": [
       "Вычисление эмбеддингов:   0%|          | 0/3 [00:00<?, ?it/s]"
      ]
     },
     "metadata": {},
     "output_type": "display_data"
    },
    {
     "name": "stdout",
     "output_type": "stream",
     "text": [
      "DenseRetriever инициализирован\n"
     ]
    },
    {
     "data": {
      "application/vnd.jupyter.widget-view+json": {
       "model_id": "7ed28fea34b5429a81859ca2fc4e0e02",
       "version_major": 2,
       "version_minor": 0
      },
      "text/plain": [
       "Вычисление эмбеддингов:   0%|          | 0/3 [00:00<?, ?it/s]"
      ]
     },
     "metadata": {},
     "output_type": "display_data"
    },
    {
     "name": "stdout",
     "output_type": "stream",
     "text": [
      "DenseRetriever инициализирован\n",
      "Оценка Dense Retriever (all-mpnet-base-v2) на 5 вопросах...\n"
     ]
    },
    {
     "data": {
      "application/vnd.jupyter.widget-view+json": {
       "model_id": "b68851c6abc14b4fae95250b93344ecd",
       "version_major": 2,
       "version_minor": 0
      },
      "text/plain": [
       "  0%|          | 0/5 [00:00<?, ?it/s]"
      ]
     },
     "metadata": {},
     "output_type": "display_data"
    },
    {
     "name": "stdout",
     "output_type": "stream",
     "text": [
      "Средняя скорость ретривала: 0.0310 сек\n",
      "\n",
      "Тестирование модели: sentence-transformers/all-MiniLM-L6-v2\n",
      "Инициализация DenseRetriever с моделью sentence-transformers/all-MiniLM-L6-v2...\n"
     ]
    },
    {
     "data": {
      "application/vnd.jupyter.widget-view+json": {
       "model_id": "3e78c42970e14275b51108e10c3f62f4",
       "version_major": 2,
       "version_minor": 0
      },
      "text/plain": [
       "Вычисление эмбеддингов:   0%|          | 0/3 [00:00<?, ?it/s]"
      ]
     },
     "metadata": {},
     "output_type": "display_data"
    },
    {
     "name": "stdout",
     "output_type": "stream",
     "text": [
      "DenseRetriever инициализирован\n"
     ]
    },
    {
     "data": {
      "application/vnd.jupyter.widget-view+json": {
       "model_id": "88c1082429c84f1a8f0c95bed0f4a84b",
       "version_major": 2,
       "version_minor": 0
      },
      "text/plain": [
       "Вычисление эмбеддингов:   0%|          | 0/3 [00:00<?, ?it/s]"
      ]
     },
     "metadata": {},
     "output_type": "display_data"
    },
    {
     "name": "stdout",
     "output_type": "stream",
     "text": [
      "DenseRetriever инициализирован\n",
      "Оценка Dense Retriever (all-MiniLM-L6-v2) на 5 вопросах...\n"
     ]
    },
    {
     "data": {
      "application/vnd.jupyter.widget-view+json": {
       "model_id": "23b878ce36b94bef991309d7bffb8928",
       "version_major": 2,
       "version_minor": 0
      },
      "text/plain": [
       "  0%|          | 0/5 [00:00<?, ?it/s]"
      ]
     },
     "metadata": {},
     "output_type": "display_data"
    },
    {
     "name": "stdout",
     "output_type": "stream",
     "text": [
      "Средняя скорость ретривала: 0.0105 сек\n",
      "\n",
      "Тестирование модели: sentence-transformers/paraphrase-multilingual-mpnet-base-v2\n",
      "Инициализация DenseRetriever с моделью sentence-transformers/paraphrase-multilingual-mpnet-base-v2...\n"
     ]
    },
    {
     "data": {
      "application/vnd.jupyter.widget-view+json": {
       "model_id": "79c52708b4834b30be00f66bb031241a",
       "version_major": 2,
       "version_minor": 0
      },
      "text/plain": [
       "Вычисление эмбеддингов:   0%|          | 0/3 [00:00<?, ?it/s]"
      ]
     },
     "metadata": {},
     "output_type": "display_data"
    },
    {
     "name": "stdout",
     "output_type": "stream",
     "text": [
      "DenseRetriever инициализирован\n"
     ]
    },
    {
     "data": {
      "application/vnd.jupyter.widget-view+json": {
       "model_id": "7a1d3fe4392e4287aa2346a02b9bf6c7",
       "version_major": 2,
       "version_minor": 0
      },
      "text/plain": [
       "Вычисление эмбеддингов:   0%|          | 0/3 [00:00<?, ?it/s]"
      ]
     },
     "metadata": {},
     "output_type": "display_data"
    },
    {
     "name": "stdout",
     "output_type": "stream",
     "text": [
      "DenseRetriever инициализирован\n",
      "Оценка Dense Retriever (paraphrase-multilingual-mpnet-base-v2) на 5 вопросах...\n"
     ]
    },
    {
     "data": {
      "application/vnd.jupyter.widget-view+json": {
       "model_id": "5eb09b84a8b8454db87c80ad87fd7ba6",
       "version_major": 2,
       "version_minor": 0
      },
      "text/plain": [
       "  0%|          | 0/5 [00:00<?, ?it/s]"
      ]
     },
     "metadata": {},
     "output_type": "display_data"
    },
    {
     "name": "stdout",
     "output_type": "stream",
     "text": [
      "Средняя скорость ретривала: 0.0410 сек\n",
      "\n",
      "3. Тестирование гибридных подходов с разными весами\n",
      "Инициализация HybridRetriever (dense_weight=0.7, sparse_weight=0.3)...\n",
      "Инициализация DenseRetriever с моделью intfloat/multilingual-e5-large...\n"
     ]
    },
    {
     "data": {
      "application/vnd.jupyter.widget-view+json": {
       "model_id": "c3cf802528b6499b8e2268b1a059ed15",
       "version_major": 2,
       "version_minor": 0
      },
      "text/plain": [
       "Вычисление эмбеддингов:   0%|          | 0/3 [00:00<?, ?it/s]"
      ]
     },
     "metadata": {},
     "output_type": "display_data"
    },
    {
     "name": "stdout",
     "output_type": "stream",
     "text": [
      "DenseRetriever инициализирован\n"
     ]
    },
    {
     "data": {
      "application/vnd.jupyter.widget-view+json": {
       "model_id": "2c5ab90337bd4cf0863cff734956d50f",
       "version_major": 2,
       "version_minor": 0
      },
      "text/plain": [
       "Вычисление эмбеддингов:   0%|          | 0/3 [00:00<?, ?it/s]"
      ]
     },
     "metadata": {},
     "output_type": "display_data"
    },
    {
     "name": "stdout",
     "output_type": "stream",
     "text": [
      "DenseRetriever инициализирован\n",
      "Инициализация BM25Retriever...\n",
      "BM25Retriever инициализирован\n",
      "HybridRetriever инициализирован\n",
      "Оценка Hybrid Retriever (dense=0.7, sparse=0.3) на 5 вопросах...\n"
     ]
    },
    {
     "data": {
      "application/vnd.jupyter.widget-view+json": {
       "model_id": "821ffae5b322482d933547000322aff1",
       "version_major": 2,
       "version_minor": 0
      },
      "text/plain": [
       "  0%|          | 0/5 [00:00<?, ?it/s]"
      ]
     },
     "metadata": {},
     "output_type": "display_data"
    },
    {
     "name": "stdout",
     "output_type": "stream",
     "text": [
      "Средняя скорость ретривала: 0.0860 сек\n",
      "Инициализация HybridRetriever (dense_weight=0.5, sparse_weight=0.5)...\n",
      "Инициализация DenseRetriever с моделью intfloat/multilingual-e5-large...\n"
     ]
    },
    {
     "data": {
      "application/vnd.jupyter.widget-view+json": {
       "model_id": "f04b39a8834b4e58b802a47c526a8db0",
       "version_major": 2,
       "version_minor": 0
      },
      "text/plain": [
       "Вычисление эмбеддингов:   0%|          | 0/3 [00:00<?, ?it/s]"
      ]
     },
     "metadata": {},
     "output_type": "display_data"
    },
    {
     "name": "stdout",
     "output_type": "stream",
     "text": [
      "DenseRetriever инициализирован\n"
     ]
    },
    {
     "data": {
      "application/vnd.jupyter.widget-view+json": {
       "model_id": "bc938c6647ff41feaaf422a640c456bd",
       "version_major": 2,
       "version_minor": 0
      },
      "text/plain": [
       "Вычисление эмбеддингов:   0%|          | 0/3 [00:00<?, ?it/s]"
      ]
     },
     "metadata": {},
     "output_type": "display_data"
    },
    {
     "name": "stdout",
     "output_type": "stream",
     "text": [
      "DenseRetriever инициализирован\n",
      "Инициализация BM25Retriever...\n",
      "BM25Retriever инициализирован\n",
      "HybridRetriever инициализирован\n",
      "Оценка Hybrid Retriever (dense=0.5, sparse=0.5) на 5 вопросах...\n"
     ]
    },
    {
     "data": {
      "application/vnd.jupyter.widget-view+json": {
       "model_id": "df2b7d3206474d3d9fa4963dc2d25e50",
       "version_major": 2,
       "version_minor": 0
      },
      "text/plain": [
       "  0%|          | 0/5 [00:00<?, ?it/s]"
      ]
     },
     "metadata": {},
     "output_type": "display_data"
    },
    {
     "name": "stdout",
     "output_type": "stream",
     "text": [
      "Средняя скорость ретривала: 0.0768 сек\n",
      "Инициализация HybridRetriever (dense_weight=0.3, sparse_weight=0.7)...\n",
      "Инициализация DenseRetriever с моделью intfloat/multilingual-e5-large...\n"
     ]
    },
    {
     "data": {
      "application/vnd.jupyter.widget-view+json": {
       "model_id": "ebe5cea3ea4242499081e64aef572e1a",
       "version_major": 2,
       "version_minor": 0
      },
      "text/plain": [
       "Вычисление эмбеддингов:   0%|          | 0/3 [00:00<?, ?it/s]"
      ]
     },
     "metadata": {},
     "output_type": "display_data"
    },
    {
     "name": "stdout",
     "output_type": "stream",
     "text": [
      "DenseRetriever инициализирован\n"
     ]
    },
    {
     "data": {
      "application/vnd.jupyter.widget-view+json": {
       "model_id": "939698cd8ad542059e01d22c93e65193",
       "version_major": 2,
       "version_minor": 0
      },
      "text/plain": [
       "Вычисление эмбеддингов:   0%|          | 0/3 [00:00<?, ?it/s]"
      ]
     },
     "metadata": {},
     "output_type": "display_data"
    },
    {
     "name": "stdout",
     "output_type": "stream",
     "text": [
      "DenseRetriever инициализирован\n",
      "Инициализация BM25Retriever...\n",
      "BM25Retriever инициализирован\n",
      "HybridRetriever инициализирован\n",
      "Оценка Hybrid Retriever (dense=0.3, sparse=0.7) на 5 вопросах...\n"
     ]
    },
    {
     "data": {
      "application/vnd.jupyter.widget-view+json": {
       "model_id": "b8e27e2f276949788897a28a6ac81131",
       "version_major": 2,
       "version_minor": 0
      },
      "text/plain": [
       "  0%|          | 0/5 [00:00<?, ?it/s]"
      ]
     },
     "metadata": {},
     "output_type": "display_data"
    },
    {
     "name": "stdout",
     "output_type": "stream",
     "text": [
      "Средняя скорость ретривала: 0.0878 сек\n",
      "Инициализация HybridRetriever (dense_weight=0.8, sparse_weight=0.2)...\n",
      "Инициализация DenseRetriever с моделью intfloat/multilingual-e5-large...\n"
     ]
    },
    {
     "data": {
      "application/vnd.jupyter.widget-view+json": {
       "model_id": "46bf85c752554ada8fa4df2607eea646",
       "version_major": 2,
       "version_minor": 0
      },
      "text/plain": [
       "Вычисление эмбеддингов:   0%|          | 0/3 [00:00<?, ?it/s]"
      ]
     },
     "metadata": {},
     "output_type": "display_data"
    },
    {
     "name": "stdout",
     "output_type": "stream",
     "text": [
      "DenseRetriever инициализирован\n"
     ]
    },
    {
     "data": {
      "application/vnd.jupyter.widget-view+json": {
       "model_id": "3601fafa1d6b4a318d809f7fec9c6a6c",
       "version_major": 2,
       "version_minor": 0
      },
      "text/plain": [
       "Вычисление эмбеддингов:   0%|          | 0/3 [00:00<?, ?it/s]"
      ]
     },
     "metadata": {},
     "output_type": "display_data"
    },
    {
     "name": "stdout",
     "output_type": "stream",
     "text": [
      "DenseRetriever инициализирован\n",
      "Инициализация BM25Retriever...\n",
      "BM25Retriever инициализирован\n",
      "HybridRetriever инициализирован\n",
      "Оценка Hybrid Retriever (dense=0.8, sparse=0.2) на 5 вопросах...\n"
     ]
    },
    {
     "data": {
      "application/vnd.jupyter.widget-view+json": {
       "model_id": "18d26746665f4305881e4cffab492f89",
       "version_major": 2,
       "version_minor": 0
      },
      "text/plain": [
       "  0%|          | 0/5 [00:00<?, ?it/s]"
      ]
     },
     "metadata": {},
     "output_type": "display_data"
    },
    {
     "name": "stdout",
     "output_type": "stream",
     "text": [
      "Средняя скорость ретривала: 0.0823 сек\n",
      "\n",
      "4. Тестирование различных реранкеров\n",
      "Инициализация RerankerRetriever с моделью cross-encoder/ms-marco-MiniLM-L-6-v2...\n",
      "Инициализация HybridRetriever (dense_weight=0.7, sparse_weight=0.3)...\n",
      "Инициализация DenseRetriever с моделью intfloat/multilingual-e5-large...\n"
     ]
    },
    {
     "data": {
      "application/vnd.jupyter.widget-view+json": {
       "model_id": "63ba1fd009424cea814f03d7676621d1",
       "version_major": 2,
       "version_minor": 0
      },
      "text/plain": [
       "Вычисление эмбеддингов:   0%|          | 0/3 [00:00<?, ?it/s]"
      ]
     },
     "metadata": {},
     "output_type": "display_data"
    },
    {
     "name": "stdout",
     "output_type": "stream",
     "text": [
      "DenseRetriever инициализирован\n"
     ]
    },
    {
     "data": {
      "application/vnd.jupyter.widget-view+json": {
       "model_id": "c486cc35a96543c8b9a57433975a4318",
       "version_major": 2,
       "version_minor": 0
      },
      "text/plain": [
       "Вычисление эмбеддингов:   0%|          | 0/3 [00:00<?, ?it/s]"
      ]
     },
     "metadata": {},
     "output_type": "display_data"
    },
    {
     "name": "stdout",
     "output_type": "stream",
     "text": [
      "DenseRetriever инициализирован\n",
      "Инициализация BM25Retriever...\n",
      "BM25Retriever инициализирован\n",
      "HybridRetriever инициализирован\n",
      "Модель реранкера загружена\n",
      "RerankerRetriever инициализирован\n",
      "Оценка Reranker (Hybrid Retriever (dense=0.7, sparse=0.3) + ms-marco-MiniLM-L-6-v2) на 3 вопросах...\n"
     ]
    },
    {
     "data": {
      "application/vnd.jupyter.widget-view+json": {
       "model_id": "a4ef141cc74041ab8103f1ea3b045d48",
       "version_major": 2,
       "version_minor": 0
      },
      "text/plain": [
       "  0%|          | 0/3 [00:00<?, ?it/s]"
      ]
     },
     "metadata": {},
     "output_type": "display_data"
    },
    {
     "name": "stdout",
     "output_type": "stream",
     "text": [
      "Средняя скорость ретривала: 0.3722 сек\n",
      "Инициализация RerankerRetriever с моделью cross-encoder/ms-marco-TinyBERT-L-2-v2...\n",
      "Инициализация HybridRetriever (dense_weight=0.7, sparse_weight=0.3)...\n",
      "Инициализация DenseRetriever с моделью intfloat/multilingual-e5-large...\n"
     ]
    },
    {
     "data": {
      "application/vnd.jupyter.widget-view+json": {
       "model_id": "0718b1c79dbd4288a137f48e0be143d6",
       "version_major": 2,
       "version_minor": 0
      },
      "text/plain": [
       "Вычисление эмбеддингов:   0%|          | 0/3 [00:00<?, ?it/s]"
      ]
     },
     "metadata": {},
     "output_type": "display_data"
    },
    {
     "name": "stdout",
     "output_type": "stream",
     "text": [
      "DenseRetriever инициализирован\n"
     ]
    },
    {
     "data": {
      "application/vnd.jupyter.widget-view+json": {
       "model_id": "3a8102f7c1d84c94a8813ac4d79795d7",
       "version_major": 2,
       "version_minor": 0
      },
      "text/plain": [
       "Вычисление эмбеддингов:   0%|          | 0/3 [00:00<?, ?it/s]"
      ]
     },
     "metadata": {},
     "output_type": "display_data"
    },
    {
     "name": "stdout",
     "output_type": "stream",
     "text": [
      "DenseRetriever инициализирован\n",
      "Инициализация BM25Retriever...\n",
      "BM25Retriever инициализирован\n",
      "HybridRetriever инициализирован\n",
      "Модель реранкера загружена\n",
      "RerankerRetriever инициализирован\n",
      "Оценка Reranker (Hybrid Retriever (dense=0.7, sparse=0.3) + ms-marco-TinyBERT-L-2-v2) на 3 вопросах...\n"
     ]
    },
    {
     "data": {
      "application/vnd.jupyter.widget-view+json": {
       "model_id": "635bd2180d74457bb2687f35397e5680",
       "version_major": 2,
       "version_minor": 0
      },
      "text/plain": [
       "  0%|          | 0/3 [00:00<?, ?it/s]"
      ]
     },
     "metadata": {},
     "output_type": "display_data"
    },
    {
     "name": "stdout",
     "output_type": "stream",
     "text": [
      "Средняя скорость ретривала: 0.1000 сек\n",
      "\n",
      "=== Итоговая сводка результатов ===\n",
      "Средняя скорость ретривала:\n",
      "Dense Retriever (multilingual-e5-large): 0.0843 сек\n",
      "BM25 Retriever: 0.0011 сек\n",
      "Hybrid Retriever (dense=0.7, sparse=0.3): 0.0902 сек\n",
      "Hybrid Retriever (dense=0.5, sparse=0.5): 0.0772 сек\n",
      "Reranker (Dense Retriever (multilingual-e5-large) + ms-marco-MiniLM-L-6-v2): 0.3657 сек\n",
      "\n",
      "Для ручной оценки качества результатов:\n",
      "\n",
      "\n",
      "=== Вопрос #1 ===\n",
      "Вопрос: What is a collection in the context of Qdrant?\n",
      "\n",
      "--- Dense Retriever (multilingual-e5-large) ---\n",
      "\n",
      "Документ 1. [collections] (score: 0.8684):\n",
      "title: Collections weight: 30 aliases: - ../collections - /concepts/collections/ - /documentation/frameworks/fondant/documentation/concepts/collections/\n",
      "\n",
      "Collections A collection is a named set of points (vectors with a payload) among which you can search. The vector of each point within the same collection must have the same dimensionality and be compared by a single metric. Named vectors can be used to have multiple vectors in a single point, each of which can have their own dimensionality and metric requirements. Distance metrics are used to measure similarities among vectors. The choice of metric depends on the way vectors obtaining and, in particular, on the method of neural network encoder training. Qdrant supports these most popular types of metrics:\n",
      "\n",
      "Dot product: Dot - [wiki] Cosine similarity: Cosine - [wiki] Euclidean distance: Euclid - [wiki] Manhattan distance: Manhattan - [wiki]\n",
      "\n",
      "Документ 2. [points] (score: 0.8511):\n",
      "} python client.scroll( collection_name=\"{collection_name}\", limit=15, order_by=\"timestamp\", # <-- this! ) typescript client.scroll(\"{collection_name}\", { limit: 15, order_by: \"timestamp\", // <-- this! }); ```rust use qdrant_client::qdrant::{OrderByBuilder, ScrollPointsBuilder}; client .scroll( ScrollPointsBuilder::new(\"{collection_name}\") .limit(15) .order_by(OrderByBuilder::new(\"timestamp\")), ) .await?; ``` ```java import io.qdrant.client.grpc.Points.OrderBy; import io.qdrant.client.grpc.Points.ScrollPoints; client.scrollAsync(ScrollPoints.newBuilder() .setCollectionName(\"{collection_name}\") .setLimit(15) .setOrderBy(OrderBy.newBuilder().setKey(\"timestamp\").build()) .build()).get(); ``` csharp await client.ScrollAsync(\"{collection_name}\", limit: 15, orderBy: \"timestamp\"); ```go import ( \"context\" \"github.com/qdrant/go-client/qdrant\"\n",
      "\n",
      "Документ 3. [collections] (score: 0.8494):\n",
      ") client, err := qdrant.NewClient(&qdrant.Config{ Host: \"localhost\", Port: 6334, }) client.CreateCollection(context.Background(), &qdrant.CreateCollection{ CollectionName: \"{collection_name}\", VectorsConfig: qdrant.NewVectorsConfig(&qdrant.VectorParams{ Size: 100, Distance: qdrant.Distance_Cosine, }), InitFromCollection: qdrant.PtrOf(\"{from_collection_name}\"), }) ``` Collection with multiple vectors Available as of v0.10.0 It is possible to have multiple vectors per record. This feature allows for multiple vector storages per collection. To distinguish vectors in one record, they should have a unique name defined when creating the collection.\n",
      "\n",
      "--- BM25 Retriever ---\n",
      "\n",
      "Документ 1. [explore] (score: 13.2903):\n",
      "Context is a set of positive-negative pairs, and each pair divides the space into positive and negative zones. In that mode, the search operation prefers points based on how many positive zones they belong to (or how much they avoid negative zones). The interface for providing context is similar to the recommendation API (ids or raw vectors). Still, in this case, they need to be provided in the form of positive-negative pairs. Discovery API lets you do two new types of search: - Discovery search: Uses the context (the pairs of positive-negative vectors) and a target to return the points more similar to the target, but constrained by the context. - Context search: Using only the context pairs, get the points that live in the best zone, where loss is minimized The way positive and negative examples should be arranged in the context pairs is completely up to you. So you can have the flexibility of trying out different permutation techniques based on your model and data. The speed of search is linearly related to the amount of examples you provide in the query. Discovery search This type of search works specially well for combining multimodal, vector-constrained searches. Qdrant already has extensive support for filters, which constrain the search based on its payload, but using discovery search, you can also constrain the vector space in which the search is performed.\n",
      "\n",
      "Документ 2. [explore] (score: 12.0913):\n",
      "* When providing ids as examples, they will be excluded from the results. * Score is always in descending order (larger is better), regardless of the metric used. * Since the space is hard-constrained by the context, accuracy is normal to drop when using default settings. To mitigate this, increasing the `ef` search parameter to something above 64 will already be much better than the default 16, e.g: `\"params\": { \"ef\": 128 }`\n",
      "\n",
      "Context search Conversely, in the absence of a target, a rigid integer-by-integer function doesn't provide much guidance for the search when utilizing a proximity graph like HNSW. Instead, context search employs a function derived from the triplet-loss concept, which is usually applied during model training. For context search, this function is adapted to steer the search towards areas with fewer negative examples.\n",
      "\n",
      "Документ 3. [search] (score: 11.4873):\n",
      "// Options for specifying what to bring from the payload // of the looked up point, true by default \"with_payload\": [\"title\", \"text\"],\n",
      "\n",
      "// Options for specifying what to bring from the vector(s) // of the looked up point, true by default \"with_vectors\": false }\n",
      "\n",
      "--- Hybrid Retriever (dense=0.7, sparse=0.3) ---\n",
      "\n",
      "Документ 1. [collections] (score: 0.6079):\n",
      "title: Collections weight: 30 aliases: - ../collections - /concepts/collections/ - /documentation/frameworks/fondant/documentation/concepts/collections/\n",
      "\n",
      "Collections A collection is a named set of points (vectors with a payload) among which you can search. The vector of each point within the same collection must have the same dimensionality and be compared by a single metric. Named vectors can be used to have multiple vectors in a single point, each of which can have their own dimensionality and metric requirements. Distance metrics are used to measure similarities among vectors. The choice of metric depends on the way vectors obtaining and, in particular, on the method of neural network encoder training. Qdrant supports these most popular types of metrics:\n",
      "\n",
      "Dot product: Dot - [wiki] Cosine similarity: Cosine - [wiki] Euclidean distance: Euclid - [wiki] Manhattan distance: Manhattan - [wiki]\n",
      "\n",
      "Документ 2. [points] (score: 0.5957):\n",
      "} python client.scroll( collection_name=\"{collection_name}\", limit=15, order_by=\"timestamp\", # <-- this! ) typescript client.scroll(\"{collection_name}\", { limit: 15, order_by: \"timestamp\", // <-- this! }); ```rust use qdrant_client::qdrant::{OrderByBuilder, ScrollPointsBuilder}; client .scroll( ScrollPointsBuilder::new(\"{collection_name}\") .limit(15) .order_by(OrderByBuilder::new(\"timestamp\")), ) .await?; ``` ```java import io.qdrant.client.grpc.Points.OrderBy; import io.qdrant.client.grpc.Points.ScrollPoints; client.scrollAsync(ScrollPoints.newBuilder() .setCollectionName(\"{collection_name}\") .setLimit(15) .setOrderBy(OrderBy.newBuilder().setKey(\"timestamp\").build()) .build()).get(); ``` csharp await client.ScrollAsync(\"{collection_name}\", limit: 15, orderBy: \"timestamp\"); ```go import ( \"context\" \"github.com/qdrant/go-client/qdrant\"\n",
      "\n",
      "Документ 3. [collections] (score: 0.5913):\n",
      ") client, err := qdrant.NewClient(&qdrant.Config{ Host: \"localhost\", Port: 6334, }) client.UpdateCollection(context.Background(), &qdrant.UpdateCollection{ CollectionName: \"{collection_name}\", OptimizersConfig: &qdrant.OptimizersConfigDiff{}, }) ``` Alternatively you may use the Trigger Optimizers button in the Qdrant Web UI. It is shown next to the grey collection status on the collection info page. Approximate point and vector counts You may be interested in the count attributes:\n",
      "\n",
      "points_count - total number of objects (vectors and their payloads) stored in the collection vectors_count - total number of vectors in a collection, useful if you have multiple vectors per point indexed_vectors_count - total number of vectors stored in the HNSW or sparse index. Qdrant does not store all the vectors in the index, but only if an index segment might be created for a given configuration.\n",
      "\n",
      "--- Hybrid Retriever (dense=0.5, sparse=0.5) ---\n",
      "\n",
      "Документ 1. [explore] (score: 0.5000):\n",
      "Context is a set of positive-negative pairs, and each pair divides the space into positive and negative zones. In that mode, the search operation prefers points based on how many positive zones they belong to (or how much they avoid negative zones). The interface for providing context is similar to the recommendation API (ids or raw vectors). Still, in this case, they need to be provided in the form of positive-negative pairs. Discovery API lets you do two new types of search: - Discovery search: Uses the context (the pairs of positive-negative vectors) and a target to return the points more similar to the target, but constrained by the context. - Context search: Using only the context pairs, get the points that live in the best zone, where loss is minimized The way positive and negative examples should be arranged in the context pairs is completely up to you. So you can have the flexibility of trying out different permutation techniques based on your model and data. The speed of search is linearly related to the amount of examples you provide in the query. Discovery search This type of search works specially well for combining multimodal, vector-constrained searches. Qdrant already has extensive support for filters, which constrain the search based on its payload, but using discovery search, you can also constrain the vector space in which the search is performed.\n",
      "\n",
      "Документ 2. [explore] (score: 0.4549):\n",
      "* When providing ids as examples, they will be excluded from the results. * Score is always in descending order (larger is better), regardless of the metric used. * Since the space is hard-constrained by the context, accuracy is normal to drop when using default settings. To mitigate this, increasing the `ef` search parameter to something above 64 will already be much better than the default 16, e.g: `\"params\": { \"ef\": 128 }`\n",
      "\n",
      "Context search Conversely, in the absence of a target, a rigid integer-by-integer function doesn't provide much guidance for the search when utilizing a proximity graph like HNSW. Instead, context search employs a function derived from the triplet-loss concept, which is usually applied during model training. For context search, this function is adapted to steer the search towards areas with fewer negative examples.\n",
      "\n",
      "Документ 3. [collections] (score: 0.4342):\n",
      "title: Collections weight: 30 aliases: - ../collections - /concepts/collections/ - /documentation/frameworks/fondant/documentation/concepts/collections/\n",
      "\n",
      "Collections A collection is a named set of points (vectors with a payload) among which you can search. The vector of each point within the same collection must have the same dimensionality and be compared by a single metric. Named vectors can be used to have multiple vectors in a single point, each of which can have their own dimensionality and metric requirements. Distance metrics are used to measure similarities among vectors. The choice of metric depends on the way vectors obtaining and, in particular, on the method of neural network encoder training. Qdrant supports these most popular types of metrics:\n",
      "\n",
      "Dot product: Dot - [wiki] Cosine similarity: Cosine - [wiki] Euclidean distance: Euclid - [wiki] Manhattan distance: Manhattan - [wiki]\n",
      "\n",
      "--- Reranker (Dense Retriever (multilingual-e5-large) + ms-marco-MiniLM-L-6-v2) ---\n",
      "\n",
      "Документ 1. [collections] (score: 5.2249):\n",
      ") client, err := qdrant.NewClient(&qdrant.Config{ Host: \"localhost\", Port: 6334, }) client.CreateCollection(context.Background(), &qdrant.CreateCollection{ CollectionName: \"{collection_name}\", VectorsConfig: qdrant.NewVectorsConfig(&qdrant.VectorParams{ Size: 100, Distance: qdrant.Distance_Cosine, }), InitFromCollection: qdrant.PtrOf(\"{from_collection_name}\"), }) ``` Collection with multiple vectors Available as of v0.10.0 It is possible to have multiple vectors per record. This feature allows for multiple vector storages per collection. To distinguish vectors in one record, they should have a unique name defined when creating the collection.\n",
      "\n",
      "Документ 2. [collections] (score: 4.5543):\n",
      ") client, err := qdrant.NewClient(&qdrant.Config{ Host: \"localhost\", Port: 6334, }) client.UpdateCollection(context.Background(), &qdrant.UpdateCollection{ CollectionName: \"{collection_name}\", OptimizersConfig: &qdrant.OptimizersConfigDiff{}, }) ``` Alternatively you may use the Trigger Optimizers button in the Qdrant Web UI. It is shown next to the grey collection status on the collection info page. Approximate point and vector counts You may be interested in the count attributes:\n",
      "\n",
      "points_count - total number of objects (vectors and their payloads) stored in the collection vectors_count - total number of vectors in a collection, useful if you have multiple vectors per point indexed_vectors_count - total number of vectors stored in the HNSW or sparse index. Qdrant does not store all the vectors in the index, but only if an index segment might be created for a given configuration.\n",
      "\n",
      "Документ 3. [indexing] (score: 4.1420):\n",
      ") client, err := qdrant.NewClient(&qdrant.Config{ Host: \"localhost\", Port: 6334, }) client.CreateCollection(context.Background(), &qdrant.CreateCollection{ CollectionName: \"{collection_name}\", SparseVectorsConfig: qdrant.NewSparseVectorsConfig( map[string]*qdrant.SparseVectorParams{ \"splade-model-name\": { Index: &qdrant.SparseIndexConfig{ OnDisk: qdrant.PtrOf(false), }}, }), }) ```` The following parameters may affect performance:\n",
      "\n",
      "on_disk: true - The index is stored on disk, which lets you save memory. This may slow down search performance. on_disk: false - The index is still persisted on disk, but it is also loaded into memory for faster search.\n",
      "\n",
      "Какой ретривер показал лучшие результаты для этого вопроса?\n",
      "1. Dense Retriever (multilingual-e5-large)\n",
      "2. BM25 Retriever\n",
      "3. Hybrid Retriever (dense=0.7, sparse=0.3)\n",
      "4. Hybrid Retriever (dense=0.5, sparse=0.5)\n",
      "5. Reranker (Dense Retriever (multilingual-e5-large) + ms-marco-MiniLM-L-6-v2)\n",
      "\n",
      "\n",
      "=== Вопрос #2 ===\n",
      "Вопрос: What must be true about the dimensionality of vectors within a single collection?\n",
      "\n",
      "--- Dense Retriever (multilingual-e5-large) ---\n",
      "\n",
      "Документ 1. [collections] (score: 0.8259):\n",
      "title: Collections weight: 30 aliases: - ../collections - /concepts/collections/ - /documentation/frameworks/fondant/documentation/concepts/collections/\n",
      "\n",
      "Collections A collection is a named set of points (vectors with a payload) among which you can search. The vector of each point within the same collection must have the same dimensionality and be compared by a single metric. Named vectors can be used to have multiple vectors in a single point, each of which can have their own dimensionality and metric requirements. Distance metrics are used to measure similarities among vectors. The choice of metric depends on the way vectors obtaining and, in particular, on the method of neural network encoder training. Qdrant supports these most popular types of metrics:\n",
      "\n",
      "Dot product: Dot - [wiki] Cosine similarity: Cosine - [wiki] Euclidean distance: Euclid - [wiki] Manhattan distance: Manhattan - [wiki]\n",
      "\n",
      "Документ 2. [storage] (score: 0.8220):\n",
      "Set up on_disk option for the vectors in the collection create API:\n",
      "\n",
      "Документ 3. [collections] (score: 0.8204):\n",
      ") client, err := qdrant.NewClient(&qdrant.Config{ Host: \"localhost\", Port: 6334, }) client.CreateCollection(context.Background(), &qdrant.CreateCollection{ CollectionName: \"{collection_name}\", SparseVectorsConfig: qdrant.NewSparseVectorsConfig( map[string]*qdrant.SparseVectorParams{ \"text\": {}, }), }) ``` Outside of a unique name, there are no required configuration parameters for sparse vectors. The distance function for sparse vectors is always Dot and does not need to be specified. However, there are optional parameters to tune the underlying sparse vector index.\n",
      "\n",
      "--- BM25 Retriever ---\n",
      "\n",
      "Документ 1. [collections] (score: 24.3132):\n",
      "title: Collections weight: 30 aliases: - ../collections - /concepts/collections/ - /documentation/frameworks/fondant/documentation/concepts/collections/\n",
      "\n",
      "Collections A collection is a named set of points (vectors with a payload) among which you can search. The vector of each point within the same collection must have the same dimensionality and be compared by a single metric. Named vectors can be used to have multiple vectors in a single point, each of which can have their own dimensionality and metric requirements. Distance metrics are used to measure similarities among vectors. The choice of metric depends on the way vectors obtaining and, in particular, on the method of neural network encoder training. Qdrant supports these most popular types of metrics:\n",
      "\n",
      "Dot product: Dot - [wiki] Cosine similarity: Cosine - [wiki] Euclidean distance: Euclid - [wiki] Manhattan distance: Manhattan - [wiki]\n",
      "\n",
      "Документ 2. [collections] (score: 17.3180):\n",
      ") client, err := qdrant.NewClient(&qdrant.Config{ Host: \"localhost\", Port: 6334, }) client.CreateCollection(context.Background(), &qdrant.CreateCollection{ CollectionName: \"{collection_name}\", VectorsConfig: qdrant.NewVectorsConfig(&qdrant.VectorParams{ Size: 1024, Distance: qdrant.Distance_Cosine, Datatype: qdrant.Datatype_Uint8.Enum(), }), }) ``` Vectors with uint8 datatype are stored in a more compact format, which can save memory and improve search speed at the cost of some precision. If you choose to use the uint8 datatype, elements of the vector will be stored as unsigned 8-bit integers, which can take values from 0 to 255. Collection with sparse vectors Available as of v1.7.0 Qdrant supports sparse vectors as a first-class citizen. Sparse vectors are useful for text search, where each word is represented as a separate dimension. Collections can contain sparse vectors as additional named vectors along side regular dense vectors in a single point. Unlike dense vectors, sparse vectors must be named. And additionally, sparse vectors and dense vectors must have different names within a collection.\n",
      "\n",
      "Документ 3. [filtering] (score: 16.3048):\n",
      ") client, err := qdrant.NewClient(&qdrant.Config{ Host: \"localhost\", Port: 6334, }) client.Scroll(context.Background(), &qdrant.ScrollPoints{ CollectionName: \"{collection_name}\", Filter: &qdrant.Filter{ Must: []qdrant.Condition{ qdrant.NewNestedFilter(\"diet\", &qdrant.Filter{ Must: []qdrant.Condition{ qdrant.NewMatch(\"food\", \"meat\"), qdrant.NewMatchBool(\"likes\", true), }, }), }, }, }) ``` The matching logic is modified to be applied at the level of an array element within the payload. Nested filters work in the same way as if the nested filter was applied to a single element of the array at a time. Parent document is considered to match the condition if at least one element of the array matches the nested filter. Limitations The has_id condition is not supported within the nested object filter. If you need it, place it in an adjacent must clause.\n",
      "\n",
      "--- Hybrid Retriever (dense=0.7, sparse=0.3) ---\n",
      "\n",
      "Документ 1. [collections] (score: 0.8781):\n",
      "title: Collections weight: 30 aliases: - ../collections - /concepts/collections/ - /documentation/frameworks/fondant/documentation/concepts/collections/\n",
      "\n",
      "Collections A collection is a named set of points (vectors with a payload) among which you can search. The vector of each point within the same collection must have the same dimensionality and be compared by a single metric. Named vectors can be used to have multiple vectors in a single point, each of which can have their own dimensionality and metric requirements. Distance metrics are used to measure similarities among vectors. The choice of metric depends on the way vectors obtaining and, in particular, on the method of neural network encoder training. Qdrant supports these most popular types of metrics:\n",
      "\n",
      "Dot product: Dot - [wiki] Cosine similarity: Cosine - [wiki] Euclidean distance: Euclid - [wiki] Manhattan distance: Manhattan - [wiki]\n",
      "\n",
      "Документ 2. [indexing] (score: 0.7861):\n",
      ") client, err := qdrant.NewClient(&qdrant.Config{ Host: \"localhost\", Port: 6334, }) client.CreateCollection(context.Background(), &qdrant.CreateCollection{ CollectionName: \"{collection_name}\", SparseVectorsConfig: qdrant.NewSparseVectorsConfig( map[string]*qdrant.SparseVectorParams{ \"splade-model-name\": { Index: &qdrant.SparseIndexConfig{ OnDisk: qdrant.PtrOf(false), }}, }), }) ```` The following parameters may affect performance:\n",
      "\n",
      "on_disk: true - The index is stored on disk, which lets you save memory. This may slow down search performance. on_disk: false - The index is still persisted on disk, but it is also loaded into memory for faster search.\n",
      "\n",
      "Документ 3. [storage] (score: 0.5754):\n",
      "Set up on_disk option for the vectors in the collection create API:\n",
      "\n",
      "--- Hybrid Retriever (dense=0.5, sparse=0.5) ---\n",
      "\n",
      "Документ 1. [collections] (score: 0.9129):\n",
      "title: Collections weight: 30 aliases: - ../collections - /concepts/collections/ - /documentation/frameworks/fondant/documentation/concepts/collections/\n",
      "\n",
      "Collections A collection is a named set of points (vectors with a payload) among which you can search. The vector of each point within the same collection must have the same dimensionality and be compared by a single metric. Named vectors can be used to have multiple vectors in a single point, each of which can have their own dimensionality and metric requirements. Distance metrics are used to measure similarities among vectors. The choice of metric depends on the way vectors obtaining and, in particular, on the method of neural network encoder training. Qdrant supports these most popular types of metrics:\n",
      "\n",
      "Dot product: Dot - [wiki] Cosine similarity: Cosine - [wiki] Euclidean distance: Euclid - [wiki] Manhattan distance: Manhattan - [wiki]\n",
      "\n",
      "Документ 2. [indexing] (score: 0.7650):\n",
      ") client, err := qdrant.NewClient(&qdrant.Config{ Host: \"localhost\", Port: 6334, }) client.CreateCollection(context.Background(), &qdrant.CreateCollection{ CollectionName: \"{collection_name}\", SparseVectorsConfig: qdrant.NewSparseVectorsConfig( map[string]*qdrant.SparseVectorParams{ \"splade-model-name\": { Index: &qdrant.SparseIndexConfig{ OnDisk: qdrant.PtrOf(false), }}, }), }) ```` The following parameters may affect performance:\n",
      "\n",
      "on_disk: true - The index is stored on disk, which lets you save memory. This may slow down search performance. on_disk: false - The index is still persisted on disk, but it is also loaded into memory for faster search.\n",
      "\n",
      "Документ 3. [storage] (score: 0.4110):\n",
      "Set up on_disk option for the vectors in the collection create API:\n",
      "\n",
      "--- Reranker (Dense Retriever (multilingual-e5-large) + ms-marco-MiniLM-L-6-v2) ---\n",
      "\n",
      "Документ 1. [collections] (score: 4.7424):\n",
      "title: Collections weight: 30 aliases: - ../collections - /concepts/collections/ - /documentation/frameworks/fondant/documentation/concepts/collections/\n",
      "\n",
      "Collections A collection is a named set of points (vectors with a payload) among which you can search. The vector of each point within the same collection must have the same dimensionality and be compared by a single metric. Named vectors can be used to have multiple vectors in a single point, each of which can have their own dimensionality and metric requirements. Distance metrics are used to measure similarities among vectors. The choice of metric depends on the way vectors obtaining and, in particular, on the method of neural network encoder training. Qdrant supports these most popular types of metrics:\n",
      "\n",
      "Dot product: Dot - [wiki] Cosine similarity: Cosine - [wiki] Euclidean distance: Euclid - [wiki] Manhattan distance: Manhattan - [wiki]\n",
      "\n",
      "Документ 2. [collections] (score: 0.5696):\n",
      "If your collection is very small or the dimensionality of the vectors is low, there might be no HNSW segment created and indexed_vectors_count might be equal to 0. It is possible to reduce the indexing_threshold for an existing collection by updating collection parameters. Collection aliases In a production environment, it is sometimes necessary to switch different versions of vectors seamlessly. For example, when upgrading to a new version of the neural network. There is no way to stop the service and rebuild the collection with new vectors in these situations. Aliases are additional names for existing collections. All queries to the collection can also be done identically, using an alias instead of the collection name. Thus, it is possible to build a second collection in the background and then switch alias from the old to the new collection. Since all changes of aliases happen atomically, no concurrent requests will be affected during the switch.\n",
      "\n",
      "Документ 3. [collections] (score: -0.8957):\n",
      "For search efficiency, Cosine similarity is implemented as dot-product over normalized vectors. Vectors are automatically normalized during upload In addition to metrics and vector size, each collection uses its own set of parameters that controls collection optimization, index construction, and vacuum. These settings can be changed at any time by a corresponding request. Setting up multitenancy How many collections should you create? In most cases, you should only use a single collection with payload-based partitioning. This approach is called multitenancy. It is efficient for most of users, but it requires additional configuration. Learn how to set it up When should you create multiple collections? When you have a limited number of users and you need isolation. This approach is flexible, but it may be more costly, since creating numerous collections may result in resource overhead. Also, you need to ensure that they do not affect each other in any way, including performance-wise.\n",
      "\n",
      "Какой ретривер показал лучшие результаты для этого вопроса?\n",
      "1. Dense Retriever (multilingual-e5-large)\n",
      "2. BM25 Retriever\n",
      "3. Hybrid Retriever (dense=0.7, sparse=0.3)\n",
      "4. Hybrid Retriever (dense=0.5, sparse=0.5)\n",
      "5. Reranker (Dense Retriever (multilingual-e5-large) + ms-marco-MiniLM-L-6-v2)\n",
      "\n",
      "\n",
      "=== Вопрос #3 ===\n",
      "Вопрос: How does Qdrant support different metrics for comparing vectors?\n",
      "\n",
      "--- Dense Retriever (multilingual-e5-large) ---\n",
      "\n",
      "Документ 1. [search] (score: 0.8782):\n",
      "Qdrant counts this metric in 2 steps, due to which a higher search speed is achieved. The first step is to normalize the vector when adding it to the collection. It happens only once for each vector. The second step is the comparison of vectors. In this case, it becomes equivalent to dot production - a very fast operation due to SIMD. Depending on the query configuration, Qdrant might prefer different strategies for the search. Read more about it in the query planning section. Search API Let's look at an example of a search query.\n",
      "\n",
      "Документ 2. [search] (score: 0.8745):\n",
      ") client, err := qdrant.NewClient(&qdrant.Config{ Host: \"localhost\", Port: 6334, }) client.Query(context.Background(), &qdrant.QueryPoints{ CollectionName: \"{collection_name}\", Query: qdrant.NewQueryID(qdrant.NewID(\"43cf51e2-8777-4f52-bc74-c2cbde0c8b04\")), }) ``` Metrics There are many ways to estimate the similarity of vectors with each other. In Qdrant terms, these ways are called metrics. The choice of metric depends on the vectors obtained and, in particular, on the neural network encoder training method. Qdrant supports these most popular types of metrics:\n",
      "\n",
      "Dot product: Dot - https://en.wikipedia.org/wiki/Dot_product Cosine similarity: Cosine - https://en.wikipedia.org/wiki/Cosine_similarity Euclidean distance: Euclid - https://en.wikipedia.org/wiki/Euclidean_distance Manhattan distance: Manhattan- https://en.wikipedia.org/wiki/Taxicab_geometry Available as of v1.7\n",
      "\n",
      "The most typical metric used in similarity learning models is the cosine metric.\n",
      "\n",
      "Документ 3. [explore] (score: 0.8678):\n",
      "Explore the data After mastering the concepts in search, you can start exploring your data in other ways. Qdrant provides a stack of APIs that allow you to find similar vectors in a different fashion, as well as to find the most dissimilar ones. These are useful tools for recommendation systems, data exploration, and data cleaning. Recommendation API In addition to the regular search, Qdrant also allows you to search based on multiple positive and negative examples. The API is called recommend, and the examples can be point IDs, so that you can leverage the already encoded objects; and, as of v1.6, you can also use raw vectors as input, so that you can create your vectors on the fly without uploading them as points.\n",
      "\n",
      "--- BM25 Retriever ---\n",
      "\n",
      "Документ 1. [indexing] (score: 11.9077):\n",
      "Unlike a dense vector index, a sparse vector index does not require a pre-defined vector size. It automatically adjusts to the size of the vectors added to the collection. Note: A sparse vector index only supports dot-product similarity searches. It does not support other distance metrics. IDF Modifier Available as of v1.10.0 For many search algorithms, it is important to consider how often an item occurs in a collection. Intuitively speaking, the less frequently an item appears in a collection, the more important it is in a search. This is also known as the Inverse Document Frequency (IDF). It is used in text search engines to rank search results based on the rarity of a word in a collection. IDF depends on the currently stored documents and therefore can't be pre-computed in the sparse vectors in streaming inference mode. In order to support IDF in the sparse vector index, Qdrant provides an option to modify the sparse vector query with the IDF statistics automatically.\n",
      "\n",
      "Документ 2. [explore] (score: 8.6540):\n",
      "Context is a set of positive-negative pairs, and each pair divides the space into positive and negative zones. In that mode, the search operation prefers points based on how many positive zones they belong to (or how much they avoid negative zones). The interface for providing context is similar to the recommendation API (ids or raw vectors). Still, in this case, they need to be provided in the form of positive-negative pairs. Discovery API lets you do two new types of search: - Discovery search: Uses the context (the pairs of positive-negative vectors) and a target to return the points more similar to the target, but constrained by the context. - Context search: Using only the context pairs, get the points that live in the best zone, where loss is minimized The way positive and negative examples should be arranged in the context pairs is completely up to you. So you can have the flexibility of trying out different permutation techniques based on your model and data. The speed of search is linearly related to the amount of examples you provide in the query. Discovery search This type of search works specially well for combining multimodal, vector-constrained searches. Qdrant already has extensive support for filters, which constrain the search based on its payload, but using discovery search, you can also constrain the vector space in which the search is performed.\n",
      "\n",
      "Документ 3. [collections] (score: 8.4461):\n",
      "The above counts are not exact, but should be considered approximate. Depending on how you use Qdrant these may give very different numbers than what you may expect. It's therefore important not to rely on them. More specifically, these numbers represent the count of points and vectors in Qdrant's internal storage. Internally, Qdrant may temporarily duplicate points as part of automatic optimizations. It may keep changed or deleted points for a bit. And it may delay indexing of new points. All of that is for optimization reasons. Updates you do are therefore not directly reflected in these numbers. If you see a wildly different count of points, it will likely resolve itself once a new round of automatic optimizations has completed. To clarify: these numbers don't represent the exact amount of points or vectors you have inserted, nor does it represent the exact number of distinguishable points or vectors you can query. If you want to know exact counts, refer to the count API. Note: these numbers may be removed in a future version of Qdrant. Indexing vectors in HNSW In some cases, you might be surprised the value of indexed_vectors_count is lower than vectors_count. This is an intended behaviour and depends on the optimizer configuration. A new index segment is built if the size of non-indexed vectors is higher than the value of indexing_threshold(in kB).\n",
      "\n",
      "--- Hybrid Retriever (dense=0.7, sparse=0.3) ---\n",
      "\n",
      "Документ 1. [explore] (score: 0.8244):\n",
      "Context is a set of positive-negative pairs, and each pair divides the space into positive and negative zones. In that mode, the search operation prefers points based on how many positive zones they belong to (or how much they avoid negative zones). The interface for providing context is similar to the recommendation API (ids or raw vectors). Still, in this case, they need to be provided in the form of positive-negative pairs. Discovery API lets you do two new types of search: - Discovery search: Uses the context (the pairs of positive-negative vectors) and a target to return the points more similar to the target, but constrained by the context. - Context search: Using only the context pairs, get the points that live in the best zone, where loss is minimized The way positive and negative examples should be arranged in the context pairs is completely up to you. So you can have the flexibility of trying out different permutation techniques based on your model and data. The speed of search is linearly related to the amount of examples you provide in the query. Discovery search This type of search works specially well for combining multimodal, vector-constrained searches. Qdrant already has extensive support for filters, which constrain the search based on its payload, but using discovery search, you can also constrain the vector space in which the search is performed.\n",
      "\n",
      "Документ 2. [collections] (score: 0.8202):\n",
      "The above counts are not exact, but should be considered approximate. Depending on how you use Qdrant these may give very different numbers than what you may expect. It's therefore important not to rely on them. More specifically, these numbers represent the count of points and vectors in Qdrant's internal storage. Internally, Qdrant may temporarily duplicate points as part of automatic optimizations. It may keep changed or deleted points for a bit. And it may delay indexing of new points. All of that is for optimization reasons. Updates you do are therefore not directly reflected in these numbers. If you see a wildly different count of points, it will likely resolve itself once a new round of automatic optimizations has completed. To clarify: these numbers don't represent the exact amount of points or vectors you have inserted, nor does it represent the exact number of distinguishable points or vectors you can query. If you want to know exact counts, refer to the count API. Note: these numbers may be removed in a future version of Qdrant. Indexing vectors in HNSW In some cases, you might be surprised the value of indexed_vectors_count is lower than vectors_count. This is an intended behaviour and depends on the optimizer configuration. A new index segment is built if the size of non-indexed vectors is higher than the value of indexing_threshold(in kB).\n",
      "\n",
      "Документ 3. [search] (score: 0.6148):\n",
      "Qdrant counts this metric in 2 steps, due to which a higher search speed is achieved. The first step is to normalize the vector when adding it to the collection. It happens only once for each vector. The second step is the comparison of vectors. In this case, it becomes equivalent to dot production - a very fast operation due to SIMD. Depending on the query configuration, Qdrant might prefer different strategies for the search. Read more about it in the query planning section. Search API Let's look at an example of a search query.\n",
      "\n",
      "--- Hybrid Retriever (dense=0.5, sparse=0.5) ---\n",
      "\n",
      "Документ 1. [explore] (score: 0.7965):\n",
      "Context is a set of positive-negative pairs, and each pair divides the space into positive and negative zones. In that mode, the search operation prefers points based on how many positive zones they belong to (or how much they avoid negative zones). The interface for providing context is similar to the recommendation API (ids or raw vectors). Still, in this case, they need to be provided in the form of positive-negative pairs. Discovery API lets you do two new types of search: - Discovery search: Uses the context (the pairs of positive-negative vectors) and a target to return the points more similar to the target, but constrained by the context. - Context search: Using only the context pairs, get the points that live in the best zone, where loss is minimized The way positive and negative examples should be arranged in the context pairs is completely up to you. So you can have the flexibility of trying out different permutation techniques based on your model and data. The speed of search is linearly related to the amount of examples you provide in the query. Discovery search This type of search works specially well for combining multimodal, vector-constrained searches. Qdrant already has extensive support for filters, which constrain the search based on its payload, but using discovery search, you can also constrain the vector space in which the search is performed.\n",
      "\n",
      "Документ 2. [collections] (score: 0.7885):\n",
      "The above counts are not exact, but should be considered approximate. Depending on how you use Qdrant these may give very different numbers than what you may expect. It's therefore important not to rely on them. More specifically, these numbers represent the count of points and vectors in Qdrant's internal storage. Internally, Qdrant may temporarily duplicate points as part of automatic optimizations. It may keep changed or deleted points for a bit. And it may delay indexing of new points. All of that is for optimization reasons. Updates you do are therefore not directly reflected in these numbers. If you see a wildly different count of points, it will likely resolve itself once a new round of automatic optimizations has completed. To clarify: these numbers don't represent the exact amount of points or vectors you have inserted, nor does it represent the exact number of distinguishable points or vectors you can query. If you want to know exact counts, refer to the count API. Note: these numbers may be removed in a future version of Qdrant. Indexing vectors in HNSW In some cases, you might be surprised the value of indexed_vectors_count is lower than vectors_count. This is an intended behaviour and depends on the optimizer configuration. A new index segment is built if the size of non-indexed vectors is higher than the value of indexing_threshold(in kB).\n",
      "\n",
      "Документ 3. [indexing] (score: 0.5000):\n",
      "Unlike a dense vector index, a sparse vector index does not require a pre-defined vector size. It automatically adjusts to the size of the vectors added to the collection. Note: A sparse vector index only supports dot-product similarity searches. It does not support other distance metrics. IDF Modifier Available as of v1.10.0 For many search algorithms, it is important to consider how often an item occurs in a collection. Intuitively speaking, the less frequently an item appears in a collection, the more important it is in a search. This is also known as the Inverse Document Frequency (IDF). It is used in text search engines to rank search results based on the rarity of a word in a collection. IDF depends on the currently stored documents and therefore can't be pre-computed in the sparse vectors in streaming inference mode. In order to support IDF in the sparse vector index, Qdrant provides an option to modify the sparse vector query with the IDF statistics automatically.\n",
      "\n",
      "--- Reranker (Dense Retriever (multilingual-e5-large) + ms-marco-MiniLM-L-6-v2) ---\n",
      "\n",
      "Документ 1. [search] (score: 6.7302):\n",
      "Qdrant counts this metric in 2 steps, due to which a higher search speed is achieved. The first step is to normalize the vector when adding it to the collection. It happens only once for each vector. The second step is the comparison of vectors. In this case, it becomes equivalent to dot production - a very fast operation due to SIMD. Depending on the query configuration, Qdrant might prefer different strategies for the search. Read more about it in the query planning section. Search API Let's look at an example of a search query.\n",
      "\n",
      "Документ 2. [search] (score: 4.2386):\n",
      ") client, err := qdrant.NewClient(&qdrant.Config{ Host: \"localhost\", Port: 6334, }) client.Query(context.Background(), &qdrant.QueryPoints{ CollectionName: \"{collection_name}\", Query: qdrant.NewQueryID(qdrant.NewID(\"43cf51e2-8777-4f52-bc74-c2cbde0c8b04\")), }) ``` Metrics There are many ways to estimate the similarity of vectors with each other. In Qdrant terms, these ways are called metrics. The choice of metric depends on the vectors obtained and, in particular, on the neural network encoder training method. Qdrant supports these most popular types of metrics:\n",
      "\n",
      "Dot product: Dot - https://en.wikipedia.org/wiki/Dot_product Cosine similarity: Cosine - https://en.wikipedia.org/wiki/Cosine_similarity Euclidean distance: Euclid - https://en.wikipedia.org/wiki/Euclidean_distance Manhattan distance: Manhattan- https://en.wikipedia.org/wiki/Taxicab_geometry Available as of v1.7\n",
      "\n",
      "The most typical metric used in similarity learning models is the cosine metric.\n",
      "\n",
      "Документ 3. [explore] (score: 3.4081):\n",
      "Explore the data After mastering the concepts in search, you can start exploring your data in other ways. Qdrant provides a stack of APIs that allow you to find similar vectors in a different fashion, as well as to find the most dissimilar ones. These are useful tools for recommendation systems, data exploration, and data cleaning. Recommendation API In addition to the regular search, Qdrant also allows you to search based on multiple positive and negative examples. The API is called recommend, and the examples can be point IDs, so that you can leverage the already encoded objects; and, as of v1.6, you can also use raw vectors as input, so that you can create your vectors on the fly without uploading them as points.\n",
      "\n",
      "Какой ретривер показал лучшие результаты для этого вопроса?\n",
      "1. Dense Retriever (multilingual-e5-large)\n",
      "2. BM25 Retriever\n",
      "3. Hybrid Retriever (dense=0.7, sparse=0.3)\n",
      "4. Hybrid Retriever (dense=0.5, sparse=0.5)\n",
      "5. Reranker (Dense Retriever (multilingual-e5-large) + ms-marco-MiniLM-L-6-v2)\n",
      "\n",
      "На основе результатов выберите наиболее подходящий тип ретривера:\n",
      "1. Dense Retriever - быстрый, хорошо находит семантически схожие тексты\n",
      "2. BM25 Retriever - хорошо находит тексты с точными совпадениями ключевых слов\n",
      "3. Hybrid Retriever - сочетает преимущества обоих подходов\n",
      "4. Reranker Retriever - более точные результаты за счет дополнительного ранжирования\n",
      "5. SPLADE Retriever - использует sparse лексические эмбеддинги (если доступен)\n"
     ]
    }
   ],
   "source": [
    "# Запускаем полную оценку\n",
    "evaluation_results = evaluate_and_choose_best_approach()\n",
    "\n",
    "# Выводим итоговые рекомендации\n",
    "best_retriever_type = evaluation_results['best_retriever_type']\n",
    "print(f\"\\n\\n=== ИТОГОВЫЕ РЕКОМЕНДАЦИИ ===\")\n",
    "print(f\"На основе проведенных экспериментов, рекомендуемый подход: {best_retriever_type.upper()}\")\n",
    "\n",
    "if best_retriever_type == \"hybrid\":\n",
    "    print(\"\\nРекомендации по использованию Hybrid Retriever:\")\n",
    "    print(\"1. Используйте комбинацию Dense и Sparse ретриверов с весами 0.7 и 0.3 соответственно\")\n",
    "    print(\"2. Для Dense компонента используйте модель intfloat/multilingual-e5-large\")\n",
    "    print(\"3. Для дальнейшего улучшения качества можно добавить реранкер\")\n",
    "elif best_retriever_type == \"dense\":\n",
    "    print(\"\\nРекомендации по использованию Dense Retriever:\")\n",
    "    print(\"1. Используйте модель intfloat/multilingual-e5-large для лучшего качества\")\n",
    "    print(\"2. Для ускорения можно использовать более легкие модели, например all-MiniLM-L6-v2\")\n",
    "elif best_retriever_type == \"reranker\":\n",
    "    print(\"\\nРекомендации по использованию Reranker Retriever:\")\n",
    "    print(\"1. Используйте HybridRetriever в качестве базового ретривера\")\n",
    "    print(\"2. Для реранкера используйте модель cross-encoder/ms-marco-MiniLM-L-6-v2\")\n",
    "    print(\"3. Для ускорения процесса можно уменьшить число кандидатов до 5-7\")\n",
    "elif best_retriever_type == \"splade\":\n",
    "    print(\"\\nРекомендации по использованию SPLADE Retriever:\")\n",
    "    print(\"1. Используйте модель naver/splade-cocondenser-ensembledistil\")\n",
    "    print(\"2. Требует больше вычислительных ресурсов, но дает высокое качество\")\n",
    "else:\n",
    "    print(\"\\nРекомендации по использованию BM25 Retriever:\")\n",
    "    print(\"1. Хорошо работает для точного поиска по ключевым словам\")\n",
    "    print(\"2. Рекомендуется комбинировать с Dense ретривером для лучших результатов\")\n",
    "\n",
    "print(\"\\nКод для использования выбранного подхода:\")\n",
    "print(f\"\"\"\n",
    "# Пример использования выбранного ретривера\n",
    "from pipeline_file import ArticleDownloader, TextPreprocessor\n",
    "\n",
    "# Создаем улучшенную QA систему с выбранным подходом\n",
    "qa_system = EnhancedDocumentationQA(retriever_type=\"{best_retriever_type}\")\n",
    "\n",
    "# Инициализируем систему\n",
    "qa_system.initialize()\n",
    "\n",
    "# Используем для ответа на вопросы\n",
    "question = \"Что такое Qdrant Collection?\"\n",
    "answer = qa_system.get_answer(question)\n",
    "print(answer)\n",
    "\"\"\")"
   ]
  },
  {
   "cell_type": "code",
   "execution_count": null,
   "metadata": {},
   "outputs": [],
   "source": []
  },
  {
   "cell_type": "code",
   "execution_count": null,
   "metadata": {},
   "outputs": [],
   "source": []
  }
 ],
 "metadata": {
  "kernelspec": {
   "display_name": "Python 3",
   "language": "python",
   "name": "python3"
  },
  "language_info": {
   "codemirror_mode": {
    "name": "ipython",
    "version": 3
   },
   "file_extension": ".py",
   "mimetype": "text/x-python",
   "name": "python",
   "nbconvert_exporter": "python",
   "pygments_lexer": "ipython3",
   "version": "3.11.9"
  }
 },
 "nbformat": 4,
 "nbformat_minor": 2
}
